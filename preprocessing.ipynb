{
 "cells": [
  {
   "cell_type": "markdown",
   "metadata": {
    "id": "RJ1Qoo_nvqq2"
   },
   "source": [
    "# NFL Helmet Impact Detection"
   ]
  },
  {
   "cell_type": "code",
   "execution_count": 1,
   "metadata": {},
   "outputs": [],
   "source": [
    "#Import necessary libraries\n",
    "import imageio\n",
    "from PIL import Image\n",
    "from moviepy.editor import VideoFileClip, clips_array\n",
    "\n",
    "import cv2\n",
    "import numpy as np # linear algebra\n",
    "import pandas as pd # data processing, CSV file I/O (e.g. pd.read_csv)\n",
    "import os\n",
    "import shutil\n",
    "import glob\n",
    "import subprocess\n",
    "import tqdm\n",
    "import json\n",
    "import math\n",
    "import datetime\n",
    "\n",
    "import matplotlib.pyplot as plt\n",
    "import matplotlib.patches as patches\n",
    "from matplotlib.image import imread\n",
    "from matplotlib.patches import Rectangle\n",
    "%matplotlib inline\n",
    "\n",
    "#Setting the resolution as provided in the starter notebook on Kaggle\n",
    "plt.rcParams['figure.dpi'] = 150\n",
    "\n",
    "import seaborn as sns\n",
    "from IPython.display import Video, display\n",
    "\n",
    "#block those warnings from pandas about setting values on a slice\n",
    "import warnings\n",
    "warnings.filterwarnings('ignore')"
   ]
  },
  {
   "cell_type": "code",
   "execution_count": 2,
   "metadata": {
    "id": "1oYA7PnevqrC"
   },
   "outputs": [],
   "source": [
    "#Import necessary libraries\n",
    "import numpy as np\n",
    "import os\n",
    "import seaborn as sns\n",
    "import pandas as pd\n",
    "import random\n",
    "import itertools\n",
    "from sklearn.model_selection import train_test_split\n",
    "import logging\n",
    "logging.getLogger(\"tensorflow\").setLevel(logging.WARNING)\n",
    "import tensorflow as tf\n",
    "from tensorflow import keras\n",
    "from tensorflow import image\n",
    "from keras.preprocessing.image import ImageDataGenerator, array_to_img, img_to_array, load_img, save_img\n",
    "from tensorflow.keras.models import Model\n",
    "from tensorflow.keras.losses import Loss\n",
    "# from keras.utils.vis_utils import plot_model\n",
    "# from keras.utils.np_utils import to_categorical\n",
    "from sklearn import preprocessing\n",
    "# from sklearn.metrics import confusion_matrix, classification_report\n",
    "# from scipy.optimize import linear_sum_assignment\n",
    "from keras import models, layers, optimizers, regularizers, Sequential\n",
    "from keras.callbacks import EarlyStopping, ModelCheckpoint\n",
    "from keras.models import load_model\n",
    "# from keras.layers import Conv2D, Flatten, MaxPooling2D, ZeroPadding2D\n",
    "from pycocotools.coco import COCO"
   ]
  },
  {
   "cell_type": "code",
   "execution_count": 3,
   "metadata": {
    "id": "QagjXkKWvqrD"
   },
   "outputs": [],
   "source": [
    "#Set random seed\n",
    "from numpy.random import seed\n",
    "set_seed = 123\n",
    "tf.random.set_seed(set_seed)\n",
    "seed(set_seed)"
   ]
  },
  {
   "cell_type": "markdown",
   "metadata": {},
   "source": [
    "As mentioned before, the images provided along with the corresponding csv file were not used, but here is a preview of what the CSV file looks like."
   ]
  },
  {
   "cell_type": "code",
   "execution_count": 4,
   "metadata": {
    "id": "wLRabtZrvqrD",
    "scrolled": false
   },
   "outputs": [
    {
     "data": {
      "text/html": [
       "<div>\n",
       "<style scoped>\n",
       "    .dataframe tbody tr th:only-of-type {\n",
       "        vertical-align: middle;\n",
       "    }\n",
       "\n",
       "    .dataframe tbody tr th {\n",
       "        vertical-align: top;\n",
       "    }\n",
       "\n",
       "    .dataframe thead th {\n",
       "        text-align: right;\n",
       "    }\n",
       "</style>\n",
       "<table border=\"1\" class=\"dataframe\">\n",
       "  <thead>\n",
       "    <tr style=\"text-align: right;\">\n",
       "      <th></th>\n",
       "      <th>image</th>\n",
       "      <th>label</th>\n",
       "      <th>left</th>\n",
       "      <th>width</th>\n",
       "      <th>top</th>\n",
       "      <th>height</th>\n",
       "    </tr>\n",
       "  </thead>\n",
       "  <tbody>\n",
       "    <tr>\n",
       "      <th>0</th>\n",
       "      <td>57503_000116_Endzone_frame443.jpg</td>\n",
       "      <td>Helmet</td>\n",
       "      <td>1099</td>\n",
       "      <td>16</td>\n",
       "      <td>456</td>\n",
       "      <td>15</td>\n",
       "    </tr>\n",
       "    <tr>\n",
       "      <th>1</th>\n",
       "      <td>57503_000116_Endzone_frame443.jpg</td>\n",
       "      <td>Helmet</td>\n",
       "      <td>1117</td>\n",
       "      <td>15</td>\n",
       "      <td>478</td>\n",
       "      <td>16</td>\n",
       "    </tr>\n",
       "    <tr>\n",
       "      <th>2</th>\n",
       "      <td>57503_000116_Endzone_frame443.jpg</td>\n",
       "      <td>Helmet</td>\n",
       "      <td>828</td>\n",
       "      <td>16</td>\n",
       "      <td>511</td>\n",
       "      <td>15</td>\n",
       "    </tr>\n",
       "    <tr>\n",
       "      <th>3</th>\n",
       "      <td>57503_000116_Endzone_frame443.jpg</td>\n",
       "      <td>Helmet</td>\n",
       "      <td>746</td>\n",
       "      <td>16</td>\n",
       "      <td>519</td>\n",
       "      <td>16</td>\n",
       "    </tr>\n",
       "    <tr>\n",
       "      <th>4</th>\n",
       "      <td>57503_000116_Endzone_frame443.jpg</td>\n",
       "      <td>Helmet</td>\n",
       "      <td>678</td>\n",
       "      <td>17</td>\n",
       "      <td>554</td>\n",
       "      <td>17</td>\n",
       "    </tr>\n",
       "  </tbody>\n",
       "</table>\n",
       "</div>"
      ],
      "text/plain": [
       "                               image   label  left  width  top  height\n",
       "0  57503_000116_Endzone_frame443.jpg  Helmet  1099     16  456      15\n",
       "1  57503_000116_Endzone_frame443.jpg  Helmet  1117     15  478      16\n",
       "2  57503_000116_Endzone_frame443.jpg  Helmet   828     16  511      15\n",
       "3  57503_000116_Endzone_frame443.jpg  Helmet   746     16  519      16\n",
       "4  57503_000116_Endzone_frame443.jpg  Helmet   678     17  554      17"
      ]
     },
     "execution_count": 4,
     "metadata": {},
     "output_type": "execute_result"
    }
   ],
   "source": [
    "# Read in the image labels file\n",
    "img_labels = pd.read_csv('train/image_labels.csv')\n",
    "img_labels.head()"
   ]
  },
  {
   "cell_type": "markdown",
   "metadata": {},
   "source": [
    "Below is the provided training labels of each video, broken out by each labeled helmet and the corresponding video frame. As described in the Kaggle competition, the feature descriptions are as follows:\n",
    "\n",
    "- gameKey: the ID code for the game.\n",
    "- playID: the ID code for the play.\n",
    "- view: the camera orientation.\n",
    "- video: the filename of the associated video.\n",
    "- frame: the frame number for this play.\n",
    "- label: the associate player's number.\n",
    "- [left/width/top/height]: the specification of the bounding box of the prediction.\n",
    "- impact: an indicator (1 = helmet impact) for bounding boxes associated with helmet impacts\n",
    "- impactType: a description of the type of helmet impact: helmet, shoulder, body, ground, etc.\n",
    "- confidence: 1 = Possible, 2 = Definitive, 3 = Definitive and Obvious\n",
    "- visibility: 0 = Not Visible from View, 1 = Minimum, 2 = Visible, 3 = Clearly Visible"
   ]
  },
  {
   "cell_type": "code",
   "execution_count": 5,
   "metadata": {
    "id": "3rSWCOZIvqrG"
   },
   "outputs": [
    {
     "data": {
      "text/html": [
       "<div>\n",
       "<style scoped>\n",
       "    .dataframe tbody tr th:only-of-type {\n",
       "        vertical-align: middle;\n",
       "    }\n",
       "\n",
       "    .dataframe tbody tr th {\n",
       "        vertical-align: top;\n",
       "    }\n",
       "\n",
       "    .dataframe thead th {\n",
       "        text-align: right;\n",
       "    }\n",
       "</style>\n",
       "<table border=\"1\" class=\"dataframe\">\n",
       "  <thead>\n",
       "    <tr style=\"text-align: right;\">\n",
       "      <th></th>\n",
       "      <th>gameKey</th>\n",
       "      <th>playID</th>\n",
       "      <th>view</th>\n",
       "      <th>video</th>\n",
       "      <th>frame</th>\n",
       "      <th>label</th>\n",
       "      <th>left</th>\n",
       "      <th>width</th>\n",
       "      <th>top</th>\n",
       "      <th>height</th>\n",
       "      <th>impact</th>\n",
       "      <th>impactType</th>\n",
       "      <th>confidence</th>\n",
       "      <th>visibility</th>\n",
       "    </tr>\n",
       "  </thead>\n",
       "  <tbody>\n",
       "    <tr>\n",
       "      <th>0</th>\n",
       "      <td>57583</td>\n",
       "      <td>82</td>\n",
       "      <td>Endzone</td>\n",
       "      <td>57583_000082_Endzone.mp4</td>\n",
       "      <td>1</td>\n",
       "      <td>H30</td>\n",
       "      <td>629</td>\n",
       "      <td>19</td>\n",
       "      <td>40</td>\n",
       "      <td>24</td>\n",
       "      <td>NaN</td>\n",
       "      <td>NaN</td>\n",
       "      <td>NaN</td>\n",
       "      <td>NaN</td>\n",
       "    </tr>\n",
       "    <tr>\n",
       "      <th>1</th>\n",
       "      <td>57583</td>\n",
       "      <td>82</td>\n",
       "      <td>Endzone</td>\n",
       "      <td>57583_000082_Endzone.mp4</td>\n",
       "      <td>1</td>\n",
       "      <td>V72</td>\n",
       "      <td>443</td>\n",
       "      <td>22</td>\n",
       "      <td>344</td>\n",
       "      <td>16</td>\n",
       "      <td>NaN</td>\n",
       "      <td>NaN</td>\n",
       "      <td>NaN</td>\n",
       "      <td>NaN</td>\n",
       "    </tr>\n",
       "    <tr>\n",
       "      <th>2</th>\n",
       "      <td>57583</td>\n",
       "      <td>82</td>\n",
       "      <td>Endzone</td>\n",
       "      <td>57583_000082_Endzone.mp4</td>\n",
       "      <td>1</td>\n",
       "      <td>V86</td>\n",
       "      <td>871</td>\n",
       "      <td>21</td>\n",
       "      <td>359</td>\n",
       "      <td>17</td>\n",
       "      <td>NaN</td>\n",
       "      <td>NaN</td>\n",
       "      <td>NaN</td>\n",
       "      <td>NaN</td>\n",
       "    </tr>\n",
       "    <tr>\n",
       "      <th>3</th>\n",
       "      <td>57583</td>\n",
       "      <td>82</td>\n",
       "      <td>Endzone</td>\n",
       "      <td>57583_000082_Endzone.mp4</td>\n",
       "      <td>1</td>\n",
       "      <td>V74</td>\n",
       "      <td>771</td>\n",
       "      <td>19</td>\n",
       "      <td>345</td>\n",
       "      <td>15</td>\n",
       "      <td>NaN</td>\n",
       "      <td>NaN</td>\n",
       "      <td>NaN</td>\n",
       "      <td>NaN</td>\n",
       "    </tr>\n",
       "    <tr>\n",
       "      <th>4</th>\n",
       "      <td>57583</td>\n",
       "      <td>82</td>\n",
       "      <td>Endzone</td>\n",
       "      <td>57583_000082_Endzone.mp4</td>\n",
       "      <td>1</td>\n",
       "      <td>V34</td>\n",
       "      <td>549</td>\n",
       "      <td>26</td>\n",
       "      <td>461</td>\n",
       "      <td>20</td>\n",
       "      <td>NaN</td>\n",
       "      <td>NaN</td>\n",
       "      <td>NaN</td>\n",
       "      <td>NaN</td>\n",
       "    </tr>\n",
       "  </tbody>\n",
       "</table>\n",
       "</div>"
      ],
      "text/plain": [
       "   gameKey  playID     view                     video  frame label  left  \\\n",
       "0    57583      82  Endzone  57583_000082_Endzone.mp4      1   H30   629   \n",
       "1    57583      82  Endzone  57583_000082_Endzone.mp4      1   V72   443   \n",
       "2    57583      82  Endzone  57583_000082_Endzone.mp4      1   V86   871   \n",
       "3    57583      82  Endzone  57583_000082_Endzone.mp4      1   V74   771   \n",
       "4    57583      82  Endzone  57583_000082_Endzone.mp4      1   V34   549   \n",
       "\n",
       "   width  top  height  impact impactType  confidence  visibility  \n",
       "0     19   40      24     NaN        NaN         NaN         NaN  \n",
       "1     22  344      16     NaN        NaN         NaN         NaN  \n",
       "2     21  359      17     NaN        NaN         NaN         NaN  \n",
       "3     19  345      15     NaN        NaN         NaN         NaN  \n",
       "4     26  461      20     NaN        NaN         NaN         NaN  "
      ]
     },
     "execution_count": 5,
     "metadata": {},
     "output_type": "execute_result"
    }
   ],
   "source": [
    "# Read in the video labels file\n",
    "video_labels = pd.read_csv('train/train_labels.csv')\n",
    "video_labels.head()"
   ]
  },
  {
   "cell_type": "code",
   "execution_count": 6,
   "metadata": {},
   "outputs": [
    {
     "name": "stdout",
     "output_type": "stream",
     "text": [
      "<class 'pandas.core.frame.DataFrame'>\n",
      "RangeIndex: 983885 entries, 0 to 983884\n",
      "Data columns (total 14 columns):\n",
      " #   Column      Non-Null Count   Dtype  \n",
      "---  ------      --------------   -----  \n",
      " 0   gameKey     983885 non-null  int64  \n",
      " 1   playID      983885 non-null  int64  \n",
      " 2   view        983885 non-null  object \n",
      " 3   video       983885 non-null  object \n",
      " 4   frame       983885 non-null  int64  \n",
      " 5   label       983885 non-null  object \n",
      " 6   left        983885 non-null  int64  \n",
      " 7   width       983885 non-null  int64  \n",
      " 8   top         983885 non-null  int64  \n",
      " 9   height      983885 non-null  int64  \n",
      " 10  impact      2291 non-null    float64\n",
      " 11  impactType  2291 non-null    object \n",
      " 12  confidence  2291 non-null    float64\n",
      " 13  visibility  2291 non-null    float64\n",
      "dtypes: float64(3), int64(7), object(4)\n",
      "memory usage: 105.1+ MB\n"
     ]
    },
    {
     "data": {
      "text/plain": [
       "None"
      ]
     },
     "metadata": {},
     "output_type": "display_data"
    },
    {
     "data": {
      "text/html": [
       "<div>\n",
       "<style scoped>\n",
       "    .dataframe tbody tr th:only-of-type {\n",
       "        vertical-align: middle;\n",
       "    }\n",
       "\n",
       "    .dataframe tbody tr th {\n",
       "        vertical-align: top;\n",
       "    }\n",
       "\n",
       "    .dataframe thead th {\n",
       "        text-align: right;\n",
       "    }\n",
       "</style>\n",
       "<table border=\"1\" class=\"dataframe\">\n",
       "  <thead>\n",
       "    <tr style=\"text-align: right;\">\n",
       "      <th></th>\n",
       "      <th>gameKey</th>\n",
       "      <th>playID</th>\n",
       "      <th>view</th>\n",
       "      <th>video</th>\n",
       "      <th>frame</th>\n",
       "      <th>label</th>\n",
       "      <th>left</th>\n",
       "      <th>width</th>\n",
       "      <th>top</th>\n",
       "      <th>height</th>\n",
       "      <th>impact</th>\n",
       "      <th>impactType</th>\n",
       "      <th>confidence</th>\n",
       "      <th>visibility</th>\n",
       "    </tr>\n",
       "  </thead>\n",
       "  <tbody>\n",
       "    <tr>\n",
       "      <th>0</th>\n",
       "      <td>57583</td>\n",
       "      <td>82</td>\n",
       "      <td>Endzone</td>\n",
       "      <td>57583_000082_Endzone.mp4</td>\n",
       "      <td>1</td>\n",
       "      <td>H30</td>\n",
       "      <td>629</td>\n",
       "      <td>19</td>\n",
       "      <td>40</td>\n",
       "      <td>24</td>\n",
       "      <td>NaN</td>\n",
       "      <td>NaN</td>\n",
       "      <td>NaN</td>\n",
       "      <td>NaN</td>\n",
       "    </tr>\n",
       "    <tr>\n",
       "      <th>1</th>\n",
       "      <td>57583</td>\n",
       "      <td>82</td>\n",
       "      <td>Endzone</td>\n",
       "      <td>57583_000082_Endzone.mp4</td>\n",
       "      <td>1</td>\n",
       "      <td>V72</td>\n",
       "      <td>443</td>\n",
       "      <td>22</td>\n",
       "      <td>344</td>\n",
       "      <td>16</td>\n",
       "      <td>NaN</td>\n",
       "      <td>NaN</td>\n",
       "      <td>NaN</td>\n",
       "      <td>NaN</td>\n",
       "    </tr>\n",
       "    <tr>\n",
       "      <th>2</th>\n",
       "      <td>57583</td>\n",
       "      <td>82</td>\n",
       "      <td>Endzone</td>\n",
       "      <td>57583_000082_Endzone.mp4</td>\n",
       "      <td>1</td>\n",
       "      <td>V86</td>\n",
       "      <td>871</td>\n",
       "      <td>21</td>\n",
       "      <td>359</td>\n",
       "      <td>17</td>\n",
       "      <td>NaN</td>\n",
       "      <td>NaN</td>\n",
       "      <td>NaN</td>\n",
       "      <td>NaN</td>\n",
       "    </tr>\n",
       "    <tr>\n",
       "      <th>3</th>\n",
       "      <td>57583</td>\n",
       "      <td>82</td>\n",
       "      <td>Endzone</td>\n",
       "      <td>57583_000082_Endzone.mp4</td>\n",
       "      <td>1</td>\n",
       "      <td>V74</td>\n",
       "      <td>771</td>\n",
       "      <td>19</td>\n",
       "      <td>345</td>\n",
       "      <td>15</td>\n",
       "      <td>NaN</td>\n",
       "      <td>NaN</td>\n",
       "      <td>NaN</td>\n",
       "      <td>NaN</td>\n",
       "    </tr>\n",
       "    <tr>\n",
       "      <th>4</th>\n",
       "      <td>57583</td>\n",
       "      <td>82</td>\n",
       "      <td>Endzone</td>\n",
       "      <td>57583_000082_Endzone.mp4</td>\n",
       "      <td>1</td>\n",
       "      <td>V34</td>\n",
       "      <td>549</td>\n",
       "      <td>26</td>\n",
       "      <td>461</td>\n",
       "      <td>20</td>\n",
       "      <td>NaN</td>\n",
       "      <td>NaN</td>\n",
       "      <td>NaN</td>\n",
       "      <td>NaN</td>\n",
       "    </tr>\n",
       "  </tbody>\n",
       "</table>\n",
       "</div>"
      ],
      "text/plain": [
       "   gameKey  playID     view                     video  frame label  left  \\\n",
       "0    57583      82  Endzone  57583_000082_Endzone.mp4      1   H30   629   \n",
       "1    57583      82  Endzone  57583_000082_Endzone.mp4      1   V72   443   \n",
       "2    57583      82  Endzone  57583_000082_Endzone.mp4      1   V86   871   \n",
       "3    57583      82  Endzone  57583_000082_Endzone.mp4      1   V74   771   \n",
       "4    57583      82  Endzone  57583_000082_Endzone.mp4      1   V34   549   \n",
       "\n",
       "   width  top  height  impact impactType  confidence  visibility  \n",
       "0     19   40      24     NaN        NaN         NaN         NaN  \n",
       "1     22  344      16     NaN        NaN         NaN         NaN  \n",
       "2     21  359      17     NaN        NaN         NaN         NaN  \n",
       "3     19  345      15     NaN        NaN         NaN         NaN  \n",
       "4     26  461      20     NaN        NaN         NaN         NaN  "
      ]
     },
     "execution_count": 6,
     "metadata": {},
     "output_type": "execute_result"
    }
   ],
   "source": [
    "#Preview video annotations\n",
    "display(video_labels.info())\n",
    "video_labels.head()"
   ]
  },
  {
   "cell_type": "code",
   "execution_count": 7,
   "metadata": {},
   "outputs": [
    {
     "data": {
      "text/plain": [
       "Helmet      1553\n",
       "Shoulder     346\n",
       "Body         332\n",
       "Ground        56\n",
       "shoulder       2\n",
       "Hand           2\n",
       "Name: impactType, dtype: int64"
      ]
     },
     "execution_count": 7,
     "metadata": {},
     "output_type": "execute_result"
    }
   ],
   "source": [
    "#View impact types\n",
    "video_labels.impactType.value_counts()"
   ]
  },
  {
   "cell_type": "markdown",
   "metadata": {},
   "source": [
    "In the \"Discussion\" section of the competition, it was noted that there was an error in the dataset with one row labeled as frame 0. Need to drop this row due to the error."
   ]
  },
  {
   "cell_type": "code",
   "execution_count": 8,
   "metadata": {
    "id": "VDIuHWrvvqrQ"
   },
   "outputs": [],
   "source": [
    "#Drop frame 0 as it is an error in the dataset\n",
    "video_labels = video_labels[video_labels['frame'] != 0]"
   ]
  },
  {
   "cell_type": "code",
   "execution_count": 9,
   "metadata": {
    "scrolled": true
   },
   "outputs": [
    {
     "name": "stdout",
     "output_type": "stream",
     "text": [
      "<class 'pandas.core.frame.DataFrame'>\n",
      "Int64Index: 983884 entries, 0 to 983884\n",
      "Data columns (total 14 columns):\n",
      " #   Column      Non-Null Count   Dtype  \n",
      "---  ------      --------------   -----  \n",
      " 0   gameKey     983884 non-null  int64  \n",
      " 1   playID      983884 non-null  int64  \n",
      " 2   view        983884 non-null  object \n",
      " 3   video       983884 non-null  object \n",
      " 4   frame       983884 non-null  int64  \n",
      " 5   label       983884 non-null  object \n",
      " 6   left        983884 non-null  int64  \n",
      " 7   width       983884 non-null  int64  \n",
      " 8   top         983884 non-null  int64  \n",
      " 9   height      983884 non-null  int64  \n",
      " 10  impact      2291 non-null    float64\n",
      " 11  impactType  2291 non-null    object \n",
      " 12  confidence  2291 non-null    float64\n",
      " 13  visibility  2291 non-null    float64\n",
      "dtypes: float64(3), int64(7), object(4)\n",
      "memory usage: 112.6+ MB\n"
     ]
    }
   ],
   "source": [
    "video_labels.info()"
   ]
  },
  {
   "cell_type": "code",
   "execution_count": 10,
   "metadata": {
    "id": "afbYsVc-vqrQ"
   },
   "outputs": [],
   "source": [
    "#Create a copy of the original dataframe \n",
    "new_video_labels = video_labels.copy()"
   ]
  },
  {
   "cell_type": "code",
   "execution_count": 11,
   "metadata": {},
   "outputs": [],
   "source": [
    "#Fill all missing values with 0\n",
    "new_video_labels.fillna(0, inplace=True)"
   ]
  },
  {
   "cell_type": "code",
   "execution_count": 12,
   "metadata": {},
   "outputs": [
    {
     "data": {
      "text/plain": [
       "0.0    981593\n",
       "1.0      2291\n",
       "Name: impact, dtype: int64"
      ]
     },
     "execution_count": 12,
     "metadata": {},
     "output_type": "execute_result"
    }
   ],
   "source": [
    "#View impact value counts\n",
    "new_video_labels.impact.value_counts()"
   ]
  },
  {
   "cell_type": "markdown",
   "metadata": {},
   "source": [
    "Definitive impacts are defined with the following criteria: \n",
    "- Helmet impacts only\n",
    "- Confidence level > 1 (either 'Definitive' or 'Definitive and Obvious' as described earlier)\n",
    "- Visibility > 0."
   ]
  },
  {
   "cell_type": "code",
   "execution_count": 13,
   "metadata": {},
   "outputs": [],
   "source": [
    "#Filter impacts as described above\n",
    "new_video_labels.loc[(new_video_labels.impact == 1) \n",
    "                     & (new_video_labels.impactType != 'Helmet'), ['impact']] = 0.0\n",
    "new_video_labels.loc[(new_video_labels.confidence <= 1), ['impact']] = 0.0\n",
    "new_video_labels.loc[(new_video_labels.visibility == 0), ['impact']] = 0.0"
   ]
  },
  {
   "cell_type": "code",
   "execution_count": 14,
   "metadata": {},
   "outputs": [
    {
     "data": {
      "text/plain": [
       "0.0    982580\n",
       "1.0      1304\n",
       "Name: impact, dtype: int64"
      ]
     },
     "execution_count": 14,
     "metadata": {},
     "output_type": "execute_result"
    }
   ],
   "source": [
    "#View new impact value counts\n",
    "new_video_labels.impact.value_counts()"
   ]
  },
  {
   "cell_type": "markdown",
   "metadata": {},
   "source": [
    "Here we are removing the first endzone and sideline videos from the training data to be used as a validation dataset for predictions. This way, we have annotations to evaluate the model results."
   ]
  },
  {
   "cell_type": "code",
   "execution_count": 15,
   "metadata": {},
   "outputs": [],
   "source": [
    "#Select endzone test video\n",
    "endzone_test_vid = new_video_labels[new_video_labels['view'] == 'Endzone'].video.values[0]"
   ]
  },
  {
   "cell_type": "code",
   "execution_count": 16,
   "metadata": {},
   "outputs": [],
   "source": [
    "#Select sideline test video\n",
    "sideline_test_vid = new_video_labels[new_video_labels['view'] == 'Sideline'].video.values[0]"
   ]
  },
  {
   "cell_type": "code",
   "execution_count": 17,
   "metadata": {},
   "outputs": [],
   "source": [
    "#Drop endzone and sideline videos from training data\n",
    "new_video_labels = new_video_labels[(new_video_labels['video'] != endzone_test_vid) \n",
    "                                    & (new_video_labels['video'] != sideline_test_vid)]"
   ]
  },
  {
   "cell_type": "code",
   "execution_count": 18,
   "metadata": {},
   "outputs": [
    {
     "name": "stdout",
     "output_type": "stream",
     "text": [
      "mkdir: test_vid/: File exists\r\n"
     ]
    },
    {
     "data": {
      "text/plain": [
       "'test_vid/57583_000082_Sideline.mp4'"
      ]
     },
     "execution_count": 18,
     "metadata": {},
     "output_type": "execute_result"
    }
   ],
   "source": [
    "#Create a test_vid folder and copy the validation endzone and sideline video to this folder\n",
    "\n",
    "!mkdir 'test_vid/'\n",
    "test_vid_dir = 'test_vid/'\n",
    "shutil.copy(os.path.join('train/', endzone_test_vid), test_vid_dir)\n",
    "shutil.copy(os.path.join('train/', sideline_test_vid), test_vid_dir)        "
   ]
  },
  {
   "cell_type": "markdown",
   "metadata": {},
   "source": [
    "Since the entire dataset will not be used due to significantly increasing training time, I am sorting the dataframe by impact to ensure they are oversampled."
   ]
  },
  {
   "cell_type": "code",
   "execution_count": 19,
   "metadata": {
    "id": "G3OCYJtnvqrQ"
   },
   "outputs": [],
   "source": [
    "#Sort dataframe by impact\n",
    "new_video_labels = new_video_labels.sort_values(by=['impact'], ascending=False)"
   ]
  },
  {
   "cell_type": "code",
   "execution_count": 20,
   "metadata": {},
   "outputs": [],
   "source": [
    "#Convert frame to integer\n",
    "new_video_labels['frame'] = new_video_labels.frame.astype(int)"
   ]
  },
  {
   "cell_type": "code",
   "execution_count": 21,
   "metadata": {},
   "outputs": [],
   "source": [
    "#Create an image id by combining playID and the frame number\n",
    "gamekey_str = new_video_labels.gameKey.astype(str)\n",
    "playid_str = new_video_labels.playID.astype(str)\n",
    "frame_str = new_video_labels.frame.astype(str)\n",
    "new_video_labels['image_id'] = gamekey_str + playid_str + frame_str"
   ]
  },
  {
   "cell_type": "code",
   "execution_count": 22,
   "metadata": {},
   "outputs": [],
   "source": [
    "#Create a separate image id for sideline views\n",
    "new_video_labels.loc[new_video_labels['view'] == 'Sideline', ['image_id']] = new_video_labels.image_id + '789'"
   ]
  },
  {
   "cell_type": "code",
   "execution_count": 23,
   "metadata": {},
   "outputs": [],
   "source": [
    "#Reset the index\n",
    "new_video_labels = new_video_labels.reset_index(drop=True)"
   ]
  },
  {
   "cell_type": "code",
   "execution_count": 24,
   "metadata": {},
   "outputs": [
    {
     "data": {
      "text/html": [
       "<div>\n",
       "<style scoped>\n",
       "    .dataframe tbody tr th:only-of-type {\n",
       "        vertical-align: middle;\n",
       "    }\n",
       "\n",
       "    .dataframe tbody tr th {\n",
       "        vertical-align: top;\n",
       "    }\n",
       "\n",
       "    .dataframe thead th {\n",
       "        text-align: right;\n",
       "    }\n",
       "</style>\n",
       "<table border=\"1\" class=\"dataframe\">\n",
       "  <thead>\n",
       "    <tr style=\"text-align: right;\">\n",
       "      <th></th>\n",
       "      <th>gameKey</th>\n",
       "      <th>playID</th>\n",
       "      <th>frame</th>\n",
       "      <th>left</th>\n",
       "      <th>width</th>\n",
       "      <th>top</th>\n",
       "      <th>height</th>\n",
       "      <th>impact</th>\n",
       "      <th>confidence</th>\n",
       "      <th>visibility</th>\n",
       "    </tr>\n",
       "  </thead>\n",
       "  <tbody>\n",
       "    <tr>\n",
       "      <th>count</th>\n",
       "      <td>965575.000000</td>\n",
       "      <td>965575.000000</td>\n",
       "      <td>965575.000000</td>\n",
       "      <td>965575.000000</td>\n",
       "      <td>965575.000000</td>\n",
       "      <td>965575.000000</td>\n",
       "      <td>965575.000000</td>\n",
       "      <td>965575.000000</td>\n",
       "      <td>965575.000000</td>\n",
       "      <td>965575.000000</td>\n",
       "    </tr>\n",
       "    <tr>\n",
       "      <th>mean</th>\n",
       "      <td>57855.721240</td>\n",
       "      <td>1883.408814</td>\n",
       "      <td>213.227511</td>\n",
       "      <td>633.583134</td>\n",
       "      <td>21.765686</td>\n",
       "      <td>292.295485</td>\n",
       "      <td>23.247350</td>\n",
       "      <td>0.001326</td>\n",
       "      <td>0.005529</td>\n",
       "      <td>0.004543</td>\n",
       "    </tr>\n",
       "    <tr>\n",
       "      <th>std</th>\n",
       "      <td>176.138161</td>\n",
       "      <td>1275.274206</td>\n",
       "      <td>132.051988</td>\n",
       "      <td>242.441839</td>\n",
       "      <td>9.984828</td>\n",
       "      <td>115.405899</td>\n",
       "      <td>10.930415</td>\n",
       "      <td>0.036385</td>\n",
       "      <td>0.119191</td>\n",
       "      <td>0.104017</td>\n",
       "    </tr>\n",
       "    <tr>\n",
       "      <th>min</th>\n",
       "      <td>57584.000000</td>\n",
       "      <td>86.000000</td>\n",
       "      <td>1.000000</td>\n",
       "      <td>0.000000</td>\n",
       "      <td>3.000000</td>\n",
       "      <td>0.000000</td>\n",
       "      <td>3.000000</td>\n",
       "      <td>0.000000</td>\n",
       "      <td>0.000000</td>\n",
       "      <td>0.000000</td>\n",
       "    </tr>\n",
       "    <tr>\n",
       "      <th>25%</th>\n",
       "      <td>57684.000000</td>\n",
       "      <td>658.000000</td>\n",
       "      <td>102.000000</td>\n",
       "      <td>484.000000</td>\n",
       "      <td>14.000000</td>\n",
       "      <td>230.000000</td>\n",
       "      <td>15.000000</td>\n",
       "      <td>0.000000</td>\n",
       "      <td>0.000000</td>\n",
       "      <td>0.000000</td>\n",
       "    </tr>\n",
       "    <tr>\n",
       "      <th>50%</th>\n",
       "      <td>57905.000000</td>\n",
       "      <td>1923.000000</td>\n",
       "      <td>204.000000</td>\n",
       "      <td>637.000000</td>\n",
       "      <td>21.000000</td>\n",
       "      <td>294.000000</td>\n",
       "      <td>21.000000</td>\n",
       "      <td>0.000000</td>\n",
       "      <td>0.000000</td>\n",
       "      <td>0.000000</td>\n",
       "    </tr>\n",
       "    <tr>\n",
       "      <th>75%</th>\n",
       "      <td>57998.000000</td>\n",
       "      <td>2839.000000</td>\n",
       "      <td>313.000000</td>\n",
       "      <td>790.000000</td>\n",
       "      <td>27.000000</td>\n",
       "      <td>353.000000</td>\n",
       "      <td>30.000000</td>\n",
       "      <td>0.000000</td>\n",
       "      <td>0.000000</td>\n",
       "      <td>0.000000</td>\n",
       "    </tr>\n",
       "    <tr>\n",
       "      <th>max</th>\n",
       "      <td>58107.000000</td>\n",
       "      <td>4362.000000</td>\n",
       "      <td>616.000000</td>\n",
       "      <td>1277.000000</td>\n",
       "      <td>78.000000</td>\n",
       "      <td>717.000000</td>\n",
       "      <td>82.000000</td>\n",
       "      <td>1.000000</td>\n",
       "      <td>3.000000</td>\n",
       "      <td>3.000000</td>\n",
       "    </tr>\n",
       "  </tbody>\n",
       "</table>\n",
       "</div>"
      ],
      "text/plain": [
       "             gameKey         playID          frame           left  \\\n",
       "count  965575.000000  965575.000000  965575.000000  965575.000000   \n",
       "mean    57855.721240    1883.408814     213.227511     633.583134   \n",
       "std       176.138161    1275.274206     132.051988     242.441839   \n",
       "min     57584.000000      86.000000       1.000000       0.000000   \n",
       "25%     57684.000000     658.000000     102.000000     484.000000   \n",
       "50%     57905.000000    1923.000000     204.000000     637.000000   \n",
       "75%     57998.000000    2839.000000     313.000000     790.000000   \n",
       "max     58107.000000    4362.000000     616.000000    1277.000000   \n",
       "\n",
       "               width            top         height         impact  \\\n",
       "count  965575.000000  965575.000000  965575.000000  965575.000000   \n",
       "mean       21.765686     292.295485      23.247350       0.001326   \n",
       "std         9.984828     115.405899      10.930415       0.036385   \n",
       "min         3.000000       0.000000       3.000000       0.000000   \n",
       "25%        14.000000     230.000000      15.000000       0.000000   \n",
       "50%        21.000000     294.000000      21.000000       0.000000   \n",
       "75%        27.000000     353.000000      30.000000       0.000000   \n",
       "max        78.000000     717.000000      82.000000       1.000000   \n",
       "\n",
       "          confidence     visibility  \n",
       "count  965575.000000  965575.000000  \n",
       "mean        0.005529       0.004543  \n",
       "std         0.119191       0.104017  \n",
       "min         0.000000       0.000000  \n",
       "25%         0.000000       0.000000  \n",
       "50%         0.000000       0.000000  \n",
       "75%         0.000000       0.000000  \n",
       "max         3.000000       3.000000  "
      ]
     },
     "execution_count": 24,
     "metadata": {},
     "output_type": "execute_result"
    }
   ],
   "source": [
    "#Preview stats of the dataset\n",
    "new_video_labels.describe()"
   ]
  },
  {
   "cell_type": "markdown",
   "metadata": {},
   "source": [
    "The structure of our model requires that bounding boxes be in the format of y1, x1, y2, x2. Since we have x1 (left), y1 (top), width, height, we need to create the x2 (right), y2 (bottom) values."
   ]
  },
  {
   "cell_type": "code",
   "execution_count": 25,
   "metadata": {},
   "outputs": [],
   "source": [
    "# Create x2, y2 (right, bottom) values\n",
    "new_video_labels['right'] = new_video_labels.left + new_video_labels.width\n",
    "new_video_labels['bottom'] = new_video_labels.top + new_video_labels.height"
   ]
  },
  {
   "cell_type": "code",
   "execution_count": 26,
   "metadata": {},
   "outputs": [
    {
     "data": {
      "text/html": [
       "<div>\n",
       "<style scoped>\n",
       "    .dataframe tbody tr th:only-of-type {\n",
       "        vertical-align: middle;\n",
       "    }\n",
       "\n",
       "    .dataframe tbody tr th {\n",
       "        vertical-align: top;\n",
       "    }\n",
       "\n",
       "    .dataframe thead th {\n",
       "        text-align: right;\n",
       "    }\n",
       "</style>\n",
       "<table border=\"1\" class=\"dataframe\">\n",
       "  <thead>\n",
       "    <tr style=\"text-align: right;\">\n",
       "      <th></th>\n",
       "      <th>gameKey</th>\n",
       "      <th>playID</th>\n",
       "      <th>frame</th>\n",
       "      <th>left</th>\n",
       "      <th>width</th>\n",
       "      <th>top</th>\n",
       "      <th>height</th>\n",
       "      <th>impact</th>\n",
       "      <th>confidence</th>\n",
       "      <th>visibility</th>\n",
       "      <th>right</th>\n",
       "      <th>bottom</th>\n",
       "    </tr>\n",
       "  </thead>\n",
       "  <tbody>\n",
       "    <tr>\n",
       "      <th>count</th>\n",
       "      <td>965575.000000</td>\n",
       "      <td>965575.000000</td>\n",
       "      <td>965575.000000</td>\n",
       "      <td>965575.000000</td>\n",
       "      <td>965575.000000</td>\n",
       "      <td>965575.000000</td>\n",
       "      <td>965575.000000</td>\n",
       "      <td>965575.000000</td>\n",
       "      <td>965575.000000</td>\n",
       "      <td>965575.000000</td>\n",
       "      <td>965575.000000</td>\n",
       "      <td>965575.000000</td>\n",
       "    </tr>\n",
       "    <tr>\n",
       "      <th>mean</th>\n",
       "      <td>57855.721240</td>\n",
       "      <td>1883.408814</td>\n",
       "      <td>213.227511</td>\n",
       "      <td>633.583134</td>\n",
       "      <td>21.765686</td>\n",
       "      <td>292.295485</td>\n",
       "      <td>23.247350</td>\n",
       "      <td>0.001326</td>\n",
       "      <td>0.005529</td>\n",
       "      <td>0.004543</td>\n",
       "      <td>655.348820</td>\n",
       "      <td>315.542835</td>\n",
       "    </tr>\n",
       "    <tr>\n",
       "      <th>std</th>\n",
       "      <td>176.138161</td>\n",
       "      <td>1275.274206</td>\n",
       "      <td>132.051988</td>\n",
       "      <td>242.441839</td>\n",
       "      <td>9.984828</td>\n",
       "      <td>115.405899</td>\n",
       "      <td>10.930415</td>\n",
       "      <td>0.036385</td>\n",
       "      <td>0.119191</td>\n",
       "      <td>0.104017</td>\n",
       "      <td>242.402824</td>\n",
       "      <td>114.107070</td>\n",
       "    </tr>\n",
       "    <tr>\n",
       "      <th>min</th>\n",
       "      <td>57584.000000</td>\n",
       "      <td>86.000000</td>\n",
       "      <td>1.000000</td>\n",
       "      <td>0.000000</td>\n",
       "      <td>3.000000</td>\n",
       "      <td>0.000000</td>\n",
       "      <td>3.000000</td>\n",
       "      <td>0.000000</td>\n",
       "      <td>0.000000</td>\n",
       "      <td>0.000000</td>\n",
       "      <td>3.000000</td>\n",
       "      <td>3.000000</td>\n",
       "    </tr>\n",
       "    <tr>\n",
       "      <th>25%</th>\n",
       "      <td>57684.000000</td>\n",
       "      <td>658.000000</td>\n",
       "      <td>102.000000</td>\n",
       "      <td>484.000000</td>\n",
       "      <td>14.000000</td>\n",
       "      <td>230.000000</td>\n",
       "      <td>15.000000</td>\n",
       "      <td>0.000000</td>\n",
       "      <td>0.000000</td>\n",
       "      <td>0.000000</td>\n",
       "      <td>505.000000</td>\n",
       "      <td>255.000000</td>\n",
       "    </tr>\n",
       "    <tr>\n",
       "      <th>50%</th>\n",
       "      <td>57905.000000</td>\n",
       "      <td>1923.000000</td>\n",
       "      <td>204.000000</td>\n",
       "      <td>637.000000</td>\n",
       "      <td>21.000000</td>\n",
       "      <td>294.000000</td>\n",
       "      <td>21.000000</td>\n",
       "      <td>0.000000</td>\n",
       "      <td>0.000000</td>\n",
       "      <td>0.000000</td>\n",
       "      <td>658.000000</td>\n",
       "      <td>316.000000</td>\n",
       "    </tr>\n",
       "    <tr>\n",
       "      <th>75%</th>\n",
       "      <td>57998.000000</td>\n",
       "      <td>2839.000000</td>\n",
       "      <td>313.000000</td>\n",
       "      <td>790.000000</td>\n",
       "      <td>27.000000</td>\n",
       "      <td>353.000000</td>\n",
       "      <td>30.000000</td>\n",
       "      <td>0.000000</td>\n",
       "      <td>0.000000</td>\n",
       "      <td>0.000000</td>\n",
       "      <td>810.000000</td>\n",
       "      <td>374.000000</td>\n",
       "    </tr>\n",
       "    <tr>\n",
       "      <th>max</th>\n",
       "      <td>58107.000000</td>\n",
       "      <td>4362.000000</td>\n",
       "      <td>616.000000</td>\n",
       "      <td>1277.000000</td>\n",
       "      <td>78.000000</td>\n",
       "      <td>717.000000</td>\n",
       "      <td>82.000000</td>\n",
       "      <td>1.000000</td>\n",
       "      <td>3.000000</td>\n",
       "      <td>3.000000</td>\n",
       "      <td>1280.000000</td>\n",
       "      <td>720.000000</td>\n",
       "    </tr>\n",
       "  </tbody>\n",
       "</table>\n",
       "</div>"
      ],
      "text/plain": [
       "             gameKey         playID          frame           left  \\\n",
       "count  965575.000000  965575.000000  965575.000000  965575.000000   \n",
       "mean    57855.721240    1883.408814     213.227511     633.583134   \n",
       "std       176.138161    1275.274206     132.051988     242.441839   \n",
       "min     57584.000000      86.000000       1.000000       0.000000   \n",
       "25%     57684.000000     658.000000     102.000000     484.000000   \n",
       "50%     57905.000000    1923.000000     204.000000     637.000000   \n",
       "75%     57998.000000    2839.000000     313.000000     790.000000   \n",
       "max     58107.000000    4362.000000     616.000000    1277.000000   \n",
       "\n",
       "               width            top         height         impact  \\\n",
       "count  965575.000000  965575.000000  965575.000000  965575.000000   \n",
       "mean       21.765686     292.295485      23.247350       0.001326   \n",
       "std         9.984828     115.405899      10.930415       0.036385   \n",
       "min         3.000000       0.000000       3.000000       0.000000   \n",
       "25%        14.000000     230.000000      15.000000       0.000000   \n",
       "50%        21.000000     294.000000      21.000000       0.000000   \n",
       "75%        27.000000     353.000000      30.000000       0.000000   \n",
       "max        78.000000     717.000000      82.000000       1.000000   \n",
       "\n",
       "          confidence     visibility          right         bottom  \n",
       "count  965575.000000  965575.000000  965575.000000  965575.000000  \n",
       "mean        0.005529       0.004543     655.348820     315.542835  \n",
       "std         0.119191       0.104017     242.402824     114.107070  \n",
       "min         0.000000       0.000000       3.000000       3.000000  \n",
       "25%         0.000000       0.000000     505.000000     255.000000  \n",
       "50%         0.000000       0.000000     658.000000     316.000000  \n",
       "75%         0.000000       0.000000     810.000000     374.000000  \n",
       "max         3.000000       3.000000    1280.000000     720.000000  "
      ]
     },
     "execution_count": 26,
     "metadata": {},
     "output_type": "execute_result"
    }
   ],
   "source": [
    "#Preview stats again\n",
    "new_video_labels.describe()"
   ]
  },
  {
   "cell_type": "markdown",
   "metadata": {},
   "source": [
    "Creating a 'counts' column to identify the amount of objects in each image, which is important for creating annotation files and evaluating final performance of the model."
   ]
  },
  {
   "cell_type": "code",
   "execution_count": 27,
   "metadata": {},
   "outputs": [],
   "source": [
    "#Create counts column based on counts of image_id\n",
    "new_video_labels['counts'] = new_video_labels.groupby(['image_id'])['view'].transform('count')"
   ]
  },
  {
   "cell_type": "code",
   "execution_count": 28,
   "metadata": {},
   "outputs": [
    {
     "data": {
      "text/html": [
       "<div>\n",
       "<style scoped>\n",
       "    .dataframe tbody tr th:only-of-type {\n",
       "        vertical-align: middle;\n",
       "    }\n",
       "\n",
       "    .dataframe tbody tr th {\n",
       "        vertical-align: top;\n",
       "    }\n",
       "\n",
       "    .dataframe thead th {\n",
       "        text-align: right;\n",
       "    }\n",
       "</style>\n",
       "<table border=\"1\" class=\"dataframe\">\n",
       "  <thead>\n",
       "    <tr style=\"text-align: right;\">\n",
       "      <th></th>\n",
       "      <th>gameKey</th>\n",
       "      <th>playID</th>\n",
       "      <th>frame</th>\n",
       "      <th>left</th>\n",
       "      <th>width</th>\n",
       "      <th>top</th>\n",
       "      <th>height</th>\n",
       "      <th>impact</th>\n",
       "      <th>confidence</th>\n",
       "      <th>visibility</th>\n",
       "      <th>right</th>\n",
       "      <th>bottom</th>\n",
       "      <th>counts</th>\n",
       "    </tr>\n",
       "  </thead>\n",
       "  <tbody>\n",
       "    <tr>\n",
       "      <th>count</th>\n",
       "      <td>965575.000000</td>\n",
       "      <td>965575.000000</td>\n",
       "      <td>965575.000000</td>\n",
       "      <td>965575.000000</td>\n",
       "      <td>965575.000000</td>\n",
       "      <td>965575.000000</td>\n",
       "      <td>965575.000000</td>\n",
       "      <td>965575.000000</td>\n",
       "      <td>965575.000000</td>\n",
       "      <td>965575.000000</td>\n",
       "      <td>965575.000000</td>\n",
       "      <td>965575.000000</td>\n",
       "      <td>965575.000000</td>\n",
       "    </tr>\n",
       "    <tr>\n",
       "      <th>mean</th>\n",
       "      <td>57855.721240</td>\n",
       "      <td>1883.408814</td>\n",
       "      <td>213.227511</td>\n",
       "      <td>633.583134</td>\n",
       "      <td>21.765686</td>\n",
       "      <td>292.295485</td>\n",
       "      <td>23.247350</td>\n",
       "      <td>0.001326</td>\n",
       "      <td>0.005529</td>\n",
       "      <td>0.004543</td>\n",
       "      <td>655.348820</td>\n",
       "      <td>315.542835</td>\n",
       "      <td>19.874426</td>\n",
       "    </tr>\n",
       "    <tr>\n",
       "      <th>std</th>\n",
       "      <td>176.138161</td>\n",
       "      <td>1275.274206</td>\n",
       "      <td>132.051988</td>\n",
       "      <td>242.441839</td>\n",
       "      <td>9.984828</td>\n",
       "      <td>115.405899</td>\n",
       "      <td>10.930415</td>\n",
       "      <td>0.036385</td>\n",
       "      <td>0.119191</td>\n",
       "      <td>0.104017</td>\n",
       "      <td>242.402824</td>\n",
       "      <td>114.107070</td>\n",
       "      <td>4.422094</td>\n",
       "    </tr>\n",
       "    <tr>\n",
       "      <th>min</th>\n",
       "      <td>57584.000000</td>\n",
       "      <td>86.000000</td>\n",
       "      <td>1.000000</td>\n",
       "      <td>0.000000</td>\n",
       "      <td>3.000000</td>\n",
       "      <td>0.000000</td>\n",
       "      <td>3.000000</td>\n",
       "      <td>0.000000</td>\n",
       "      <td>0.000000</td>\n",
       "      <td>0.000000</td>\n",
       "      <td>3.000000</td>\n",
       "      <td>3.000000</td>\n",
       "      <td>2.000000</td>\n",
       "    </tr>\n",
       "    <tr>\n",
       "      <th>25%</th>\n",
       "      <td>57684.000000</td>\n",
       "      <td>658.000000</td>\n",
       "      <td>102.000000</td>\n",
       "      <td>484.000000</td>\n",
       "      <td>14.000000</td>\n",
       "      <td>230.000000</td>\n",
       "      <td>15.000000</td>\n",
       "      <td>0.000000</td>\n",
       "      <td>0.000000</td>\n",
       "      <td>0.000000</td>\n",
       "      <td>505.000000</td>\n",
       "      <td>255.000000</td>\n",
       "      <td>17.000000</td>\n",
       "    </tr>\n",
       "    <tr>\n",
       "      <th>50%</th>\n",
       "      <td>57905.000000</td>\n",
       "      <td>1923.000000</td>\n",
       "      <td>204.000000</td>\n",
       "      <td>637.000000</td>\n",
       "      <td>21.000000</td>\n",
       "      <td>294.000000</td>\n",
       "      <td>21.000000</td>\n",
       "      <td>0.000000</td>\n",
       "      <td>0.000000</td>\n",
       "      <td>0.000000</td>\n",
       "      <td>658.000000</td>\n",
       "      <td>316.000000</td>\n",
       "      <td>19.000000</td>\n",
       "    </tr>\n",
       "    <tr>\n",
       "      <th>75%</th>\n",
       "      <td>57998.000000</td>\n",
       "      <td>2839.000000</td>\n",
       "      <td>313.000000</td>\n",
       "      <td>790.000000</td>\n",
       "      <td>27.000000</td>\n",
       "      <td>353.000000</td>\n",
       "      <td>30.000000</td>\n",
       "      <td>0.000000</td>\n",
       "      <td>0.000000</td>\n",
       "      <td>0.000000</td>\n",
       "      <td>810.000000</td>\n",
       "      <td>374.000000</td>\n",
       "      <td>22.000000</td>\n",
       "    </tr>\n",
       "    <tr>\n",
       "      <th>max</th>\n",
       "      <td>58107.000000</td>\n",
       "      <td>4362.000000</td>\n",
       "      <td>616.000000</td>\n",
       "      <td>1277.000000</td>\n",
       "      <td>78.000000</td>\n",
       "      <td>717.000000</td>\n",
       "      <td>82.000000</td>\n",
       "      <td>1.000000</td>\n",
       "      <td>3.000000</td>\n",
       "      <td>3.000000</td>\n",
       "      <td>1280.000000</td>\n",
       "      <td>720.000000</td>\n",
       "      <td>43.000000</td>\n",
       "    </tr>\n",
       "  </tbody>\n",
       "</table>\n",
       "</div>"
      ],
      "text/plain": [
       "             gameKey         playID          frame           left  \\\n",
       "count  965575.000000  965575.000000  965575.000000  965575.000000   \n",
       "mean    57855.721240    1883.408814     213.227511     633.583134   \n",
       "std       176.138161    1275.274206     132.051988     242.441839   \n",
       "min     57584.000000      86.000000       1.000000       0.000000   \n",
       "25%     57684.000000     658.000000     102.000000     484.000000   \n",
       "50%     57905.000000    1923.000000     204.000000     637.000000   \n",
       "75%     57998.000000    2839.000000     313.000000     790.000000   \n",
       "max     58107.000000    4362.000000     616.000000    1277.000000   \n",
       "\n",
       "               width            top         height         impact  \\\n",
       "count  965575.000000  965575.000000  965575.000000  965575.000000   \n",
       "mean       21.765686     292.295485      23.247350       0.001326   \n",
       "std         9.984828     115.405899      10.930415       0.036385   \n",
       "min         3.000000       0.000000       3.000000       0.000000   \n",
       "25%        14.000000     230.000000      15.000000       0.000000   \n",
       "50%        21.000000     294.000000      21.000000       0.000000   \n",
       "75%        27.000000     353.000000      30.000000       0.000000   \n",
       "max        78.000000     717.000000      82.000000       1.000000   \n",
       "\n",
       "          confidence     visibility          right         bottom  \\\n",
       "count  965575.000000  965575.000000  965575.000000  965575.000000   \n",
       "mean        0.005529       0.004543     655.348820     315.542835   \n",
       "std         0.119191       0.104017     242.402824     114.107070   \n",
       "min         0.000000       0.000000       3.000000       3.000000   \n",
       "25%         0.000000       0.000000     505.000000     255.000000   \n",
       "50%         0.000000       0.000000     658.000000     316.000000   \n",
       "75%         0.000000       0.000000     810.000000     374.000000   \n",
       "max         3.000000       3.000000    1280.000000     720.000000   \n",
       "\n",
       "              counts  \n",
       "count  965575.000000  \n",
       "mean       19.874426  \n",
       "std         4.422094  \n",
       "min         2.000000  \n",
       "25%        17.000000  \n",
       "50%        19.000000  \n",
       "75%        22.000000  \n",
       "max        43.000000  "
      ]
     },
     "execution_count": 28,
     "metadata": {},
     "output_type": "execute_result"
    }
   ],
   "source": [
    "#Preview stats again\n",
    "new_video_labels.describe()"
   ]
  },
  {
   "cell_type": "markdown",
   "metadata": {},
   "source": [
    "Here we are limiting the dataset to reduce training time. Overall, this will reduce the total images to 1,081."
   ]
  },
  {
   "cell_type": "code",
   "execution_count": 29,
   "metadata": {},
   "outputs": [],
   "source": [
    "#Limit dataset through 10000 rows\n",
    "limited_video_labels = new_video_labels.copy()[:10000]"
   ]
  },
  {
   "cell_type": "code",
   "execution_count": 30,
   "metadata": {
    "scrolled": true
   },
   "outputs": [
    {
     "data": {
      "text/html": [
       "<div>\n",
       "<style scoped>\n",
       "    .dataframe tbody tr th:only-of-type {\n",
       "        vertical-align: middle;\n",
       "    }\n",
       "\n",
       "    .dataframe tbody tr th {\n",
       "        vertical-align: top;\n",
       "    }\n",
       "\n",
       "    .dataframe thead th {\n",
       "        text-align: right;\n",
       "    }\n",
       "</style>\n",
       "<table border=\"1\" class=\"dataframe\">\n",
       "  <thead>\n",
       "    <tr style=\"text-align: right;\">\n",
       "      <th></th>\n",
       "      <th>gameKey</th>\n",
       "      <th>playID</th>\n",
       "      <th>view</th>\n",
       "      <th>video</th>\n",
       "      <th>frame</th>\n",
       "      <th>label</th>\n",
       "      <th>left</th>\n",
       "      <th>width</th>\n",
       "      <th>top</th>\n",
       "      <th>height</th>\n",
       "      <th>impact</th>\n",
       "      <th>impactType</th>\n",
       "      <th>confidence</th>\n",
       "      <th>visibility</th>\n",
       "      <th>image_id</th>\n",
       "      <th>right</th>\n",
       "      <th>bottom</th>\n",
       "      <th>counts</th>\n",
       "    </tr>\n",
       "  </thead>\n",
       "  <tbody>\n",
       "    <tr>\n",
       "      <th>0</th>\n",
       "      <td>57586</td>\n",
       "      <td>540</td>\n",
       "      <td>Endzone</td>\n",
       "      <td>57586_000540_Endzone.mp4</td>\n",
       "      <td>232</td>\n",
       "      <td>H29</td>\n",
       "      <td>611</td>\n",
       "      <td>27</td>\n",
       "      <td>317</td>\n",
       "      <td>25</td>\n",
       "      <td>1.0</td>\n",
       "      <td>Helmet</td>\n",
       "      <td>3.0</td>\n",
       "      <td>2.0</td>\n",
       "      <td>57586540232</td>\n",
       "      <td>638</td>\n",
       "      <td>342</td>\n",
       "      <td>16</td>\n",
       "    </tr>\n",
       "    <tr>\n",
       "      <th>1</th>\n",
       "      <td>58094</td>\n",
       "      <td>2819</td>\n",
       "      <td>Endzone</td>\n",
       "      <td>58094_002819_Endzone.mp4</td>\n",
       "      <td>185</td>\n",
       "      <td>H55</td>\n",
       "      <td>832</td>\n",
       "      <td>19</td>\n",
       "      <td>303</td>\n",
       "      <td>22</td>\n",
       "      <td>1.0</td>\n",
       "      <td>Helmet</td>\n",
       "      <td>2.0</td>\n",
       "      <td>2.0</td>\n",
       "      <td>580942819185</td>\n",
       "      <td>851</td>\n",
       "      <td>325</td>\n",
       "      <td>17</td>\n",
       "    </tr>\n",
       "    <tr>\n",
       "      <th>2</th>\n",
       "      <td>57790</td>\n",
       "      <td>2792</td>\n",
       "      <td>Endzone</td>\n",
       "      <td>57790_002792_Endzone.mp4</td>\n",
       "      <td>65</td>\n",
       "      <td>H82</td>\n",
       "      <td>1125</td>\n",
       "      <td>25</td>\n",
       "      <td>294</td>\n",
       "      <td>30</td>\n",
       "      <td>1.0</td>\n",
       "      <td>Helmet</td>\n",
       "      <td>3.0</td>\n",
       "      <td>3.0</td>\n",
       "      <td>57790279265</td>\n",
       "      <td>1150</td>\n",
       "      <td>324</td>\n",
       "      <td>20</td>\n",
       "    </tr>\n",
       "    <tr>\n",
       "      <th>3</th>\n",
       "      <td>58094</td>\n",
       "      <td>423</td>\n",
       "      <td>Endzone</td>\n",
       "      <td>58094_000423_Endzone.mp4</td>\n",
       "      <td>151</td>\n",
       "      <td>V73</td>\n",
       "      <td>894</td>\n",
       "      <td>22</td>\n",
       "      <td>287</td>\n",
       "      <td>30</td>\n",
       "      <td>1.0</td>\n",
       "      <td>Helmet</td>\n",
       "      <td>2.0</td>\n",
       "      <td>2.0</td>\n",
       "      <td>58094423151</td>\n",
       "      <td>916</td>\n",
       "      <td>317</td>\n",
       "      <td>20</td>\n",
       "    </tr>\n",
       "    <tr>\n",
       "      <th>4</th>\n",
       "      <td>57913</td>\n",
       "      <td>218</td>\n",
       "      <td>Sideline</td>\n",
       "      <td>57913_000218_Sideline.mp4</td>\n",
       "      <td>37</td>\n",
       "      <td>H77</td>\n",
       "      <td>760</td>\n",
       "      <td>12</td>\n",
       "      <td>242</td>\n",
       "      <td>15</td>\n",
       "      <td>1.0</td>\n",
       "      <td>Helmet</td>\n",
       "      <td>3.0</td>\n",
       "      <td>3.0</td>\n",
       "      <td>5791321837789</td>\n",
       "      <td>772</td>\n",
       "      <td>257</td>\n",
       "      <td>22</td>\n",
       "    </tr>\n",
       "    <tr>\n",
       "      <th>...</th>\n",
       "      <td>...</td>\n",
       "      <td>...</td>\n",
       "      <td>...</td>\n",
       "      <td>...</td>\n",
       "      <td>...</td>\n",
       "      <td>...</td>\n",
       "      <td>...</td>\n",
       "      <td>...</td>\n",
       "      <td>...</td>\n",
       "      <td>...</td>\n",
       "      <td>...</td>\n",
       "      <td>...</td>\n",
       "      <td>...</td>\n",
       "      <td>...</td>\n",
       "      <td>...</td>\n",
       "      <td>...</td>\n",
       "      <td>...</td>\n",
       "      <td>...</td>\n",
       "    </tr>\n",
       "    <tr>\n",
       "      <th>9995</th>\n",
       "      <td>57915</td>\n",
       "      <td>3093</td>\n",
       "      <td>Sideline</td>\n",
       "      <td>57915_003093_Sideline.mp4</td>\n",
       "      <td>331</td>\n",
       "      <td>H96</td>\n",
       "      <td>601</td>\n",
       "      <td>16</td>\n",
       "      <td>399</td>\n",
       "      <td>17</td>\n",
       "      <td>0.0</td>\n",
       "      <td>0</td>\n",
       "      <td>0.0</td>\n",
       "      <td>0.0</td>\n",
       "      <td>579153093331789</td>\n",
       "      <td>617</td>\n",
       "      <td>416</td>\n",
       "      <td>28</td>\n",
       "    </tr>\n",
       "    <tr>\n",
       "      <th>9996</th>\n",
       "      <td>57915</td>\n",
       "      <td>3093</td>\n",
       "      <td>Sideline</td>\n",
       "      <td>57915_003093_Sideline.mp4</td>\n",
       "      <td>331</td>\n",
       "      <td>V14</td>\n",
       "      <td>747</td>\n",
       "      <td>13</td>\n",
       "      <td>233</td>\n",
       "      <td>14</td>\n",
       "      <td>0.0</td>\n",
       "      <td>0</td>\n",
       "      <td>0.0</td>\n",
       "      <td>0.0</td>\n",
       "      <td>579153093331789</td>\n",
       "      <td>760</td>\n",
       "      <td>247</td>\n",
       "      <td>28</td>\n",
       "    </tr>\n",
       "    <tr>\n",
       "      <th>9997</th>\n",
       "      <td>57915</td>\n",
       "      <td>3093</td>\n",
       "      <td>Sideline</td>\n",
       "      <td>57915_003093_Sideline.mp4</td>\n",
       "      <td>331</td>\n",
       "      <td>H42</td>\n",
       "      <td>794</td>\n",
       "      <td>16</td>\n",
       "      <td>273</td>\n",
       "      <td>16</td>\n",
       "      <td>0.0</td>\n",
       "      <td>0</td>\n",
       "      <td>0.0</td>\n",
       "      <td>0.0</td>\n",
       "      <td>579153093331789</td>\n",
       "      <td>810</td>\n",
       "      <td>289</td>\n",
       "      <td>28</td>\n",
       "    </tr>\n",
       "    <tr>\n",
       "      <th>9998</th>\n",
       "      <td>57915</td>\n",
       "      <td>3093</td>\n",
       "      <td>Sideline</td>\n",
       "      <td>57915_003093_Sideline.mp4</td>\n",
       "      <td>334</td>\n",
       "      <td>H00</td>\n",
       "      <td>196</td>\n",
       "      <td>17</td>\n",
       "      <td>664</td>\n",
       "      <td>18</td>\n",
       "      <td>0.0</td>\n",
       "      <td>0</td>\n",
       "      <td>0.0</td>\n",
       "      <td>0.0</td>\n",
       "      <td>579153093334789</td>\n",
       "      <td>213</td>\n",
       "      <td>682</td>\n",
       "      <td>27</td>\n",
       "    </tr>\n",
       "    <tr>\n",
       "      <th>9999</th>\n",
       "      <td>57915</td>\n",
       "      <td>3093</td>\n",
       "      <td>Sideline</td>\n",
       "      <td>57915_003093_Sideline.mp4</td>\n",
       "      <td>331</td>\n",
       "      <td>H27</td>\n",
       "      <td>848</td>\n",
       "      <td>16</td>\n",
       "      <td>296</td>\n",
       "      <td>17</td>\n",
       "      <td>0.0</td>\n",
       "      <td>0</td>\n",
       "      <td>0.0</td>\n",
       "      <td>0.0</td>\n",
       "      <td>579153093331789</td>\n",
       "      <td>864</td>\n",
       "      <td>313</td>\n",
       "      <td>28</td>\n",
       "    </tr>\n",
       "  </tbody>\n",
       "</table>\n",
       "<p>10000 rows × 18 columns</p>\n",
       "</div>"
      ],
      "text/plain": [
       "      gameKey  playID      view                      video  frame label  left  \\\n",
       "0       57586     540   Endzone   57586_000540_Endzone.mp4    232   H29   611   \n",
       "1       58094    2819   Endzone   58094_002819_Endzone.mp4    185   H55   832   \n",
       "2       57790    2792   Endzone   57790_002792_Endzone.mp4     65   H82  1125   \n",
       "3       58094     423   Endzone   58094_000423_Endzone.mp4    151   V73   894   \n",
       "4       57913     218  Sideline  57913_000218_Sideline.mp4     37   H77   760   \n",
       "...       ...     ...       ...                        ...    ...   ...   ...   \n",
       "9995    57915    3093  Sideline  57915_003093_Sideline.mp4    331   H96   601   \n",
       "9996    57915    3093  Sideline  57915_003093_Sideline.mp4    331   V14   747   \n",
       "9997    57915    3093  Sideline  57915_003093_Sideline.mp4    331   H42   794   \n",
       "9998    57915    3093  Sideline  57915_003093_Sideline.mp4    334   H00   196   \n",
       "9999    57915    3093  Sideline  57915_003093_Sideline.mp4    331   H27   848   \n",
       "\n",
       "      width  top  height  impact impactType  confidence  visibility  \\\n",
       "0        27  317      25     1.0     Helmet         3.0         2.0   \n",
       "1        19  303      22     1.0     Helmet         2.0         2.0   \n",
       "2        25  294      30     1.0     Helmet         3.0         3.0   \n",
       "3        22  287      30     1.0     Helmet         2.0         2.0   \n",
       "4        12  242      15     1.0     Helmet         3.0         3.0   \n",
       "...     ...  ...     ...     ...        ...         ...         ...   \n",
       "9995     16  399      17     0.0          0         0.0         0.0   \n",
       "9996     13  233      14     0.0          0         0.0         0.0   \n",
       "9997     16  273      16     0.0          0         0.0         0.0   \n",
       "9998     17  664      18     0.0          0         0.0         0.0   \n",
       "9999     16  296      17     0.0          0         0.0         0.0   \n",
       "\n",
       "             image_id  right  bottom  counts  \n",
       "0         57586540232    638     342      16  \n",
       "1        580942819185    851     325      17  \n",
       "2         57790279265   1150     324      20  \n",
       "3         58094423151    916     317      20  \n",
       "4       5791321837789    772     257      22  \n",
       "...               ...    ...     ...     ...  \n",
       "9995  579153093331789    617     416      28  \n",
       "9996  579153093331789    760     247      28  \n",
       "9997  579153093331789    810     289      28  \n",
       "9998  579153093334789    213     682      27  \n",
       "9999  579153093331789    864     313      28  \n",
       "\n",
       "[10000 rows x 18 columns]"
      ]
     },
     "execution_count": 30,
     "metadata": {},
     "output_type": "execute_result"
    }
   ],
   "source": [
    "#Preview limited dataset\n",
    "limited_video_labels"
   ]
  },
  {
   "cell_type": "markdown",
   "metadata": {},
   "source": [
    "Create a dataframe of unique images in the limited dataset."
   ]
  },
  {
   "cell_type": "code",
   "execution_count": 31,
   "metadata": {},
   "outputs": [
    {
     "name": "stdout",
     "output_type": "stream",
     "text": [
      "<class 'pandas.core.frame.DataFrame'>\n",
      "Int64Index: 1081 entries, 0 to 9984\n",
      "Data columns (total 18 columns):\n",
      " #   Column      Non-Null Count  Dtype  \n",
      "---  ------      --------------  -----  \n",
      " 0   gameKey     1081 non-null   int64  \n",
      " 1   playID      1081 non-null   int64  \n",
      " 2   view        1081 non-null   object \n",
      " 3   video       1081 non-null   object \n",
      " 4   frame       1081 non-null   int64  \n",
      " 5   label       1081 non-null   object \n",
      " 6   left        1081 non-null   int64  \n",
      " 7   width       1081 non-null   int64  \n",
      " 8   top         1081 non-null   int64  \n",
      " 9   height      1081 non-null   int64  \n",
      " 10  impact      1081 non-null   float64\n",
      " 11  impactType  1081 non-null   object \n",
      " 12  confidence  1081 non-null   float64\n",
      " 13  visibility  1081 non-null   float64\n",
      " 14  image_id    1081 non-null   object \n",
      " 15  right       1081 non-null   int64  \n",
      " 16  bottom      1081 non-null   int64  \n",
      " 17  counts      1081 non-null   int64  \n",
      "dtypes: float64(3), int64(10), object(5)\n",
      "memory usage: 160.5+ KB\n"
     ]
    }
   ],
   "source": [
    "#Create unique df based on image id\n",
    "unique_df = limited_video_labels.drop_duplicates(subset='image_id', keep=\"first\")\n",
    "unique_df.info()"
   ]
  },
  {
   "cell_type": "code",
   "execution_count": 32,
   "metadata": {},
   "outputs": [],
   "source": [
    "#Sort by image id\n",
    "unique_df = unique_df.sort_values(by=['image_id'])"
   ]
  },
  {
   "cell_type": "code",
   "execution_count": 33,
   "metadata": {},
   "outputs": [
    {
     "data": {
      "text/plain": [
       "Endzone     692\n",
       "Sideline    389\n",
       "Name: view, dtype: int64"
      ]
     },
     "execution_count": 33,
     "metadata": {},
     "output_type": "execute_result"
    }
   ],
   "source": [
    "#Preview view value counts\n",
    "unique_df.view.value_counts()"
   ]
  },
  {
   "cell_type": "code",
   "execution_count": 34,
   "metadata": {
    "scrolled": true
   },
   "outputs": [
    {
     "data": {
      "text/html": [
       "<div>\n",
       "<style scoped>\n",
       "    .dataframe tbody tr th:only-of-type {\n",
       "        vertical-align: middle;\n",
       "    }\n",
       "\n",
       "    .dataframe tbody tr th {\n",
       "        vertical-align: top;\n",
       "    }\n",
       "\n",
       "    .dataframe thead th {\n",
       "        text-align: right;\n",
       "    }\n",
       "</style>\n",
       "<table border=\"1\" class=\"dataframe\">\n",
       "  <thead>\n",
       "    <tr style=\"text-align: right;\">\n",
       "      <th></th>\n",
       "      <th>index</th>\n",
       "      <th>gameKey</th>\n",
       "      <th>playID</th>\n",
       "      <th>view</th>\n",
       "      <th>video</th>\n",
       "      <th>frame</th>\n",
       "      <th>label</th>\n",
       "      <th>left</th>\n",
       "      <th>width</th>\n",
       "      <th>top</th>\n",
       "      <th>height</th>\n",
       "      <th>impact</th>\n",
       "      <th>impactType</th>\n",
       "      <th>confidence</th>\n",
       "      <th>visibility</th>\n",
       "      <th>image_id</th>\n",
       "      <th>right</th>\n",
       "      <th>bottom</th>\n",
       "      <th>counts</th>\n",
       "    </tr>\n",
       "  </thead>\n",
       "  <tbody>\n",
       "    <tr>\n",
       "      <th>0</th>\n",
       "      <td>1021</td>\n",
       "      <td>57584</td>\n",
       "      <td>2674</td>\n",
       "      <td>Endzone</td>\n",
       "      <td>57584_002674_Endzone.mp4</td>\n",
       "      <td>42</td>\n",
       "      <td>V95</td>\n",
       "      <td>462</td>\n",
       "      <td>19</td>\n",
       "      <td>313</td>\n",
       "      <td>16</td>\n",
       "      <td>1.0</td>\n",
       "      <td>Helmet</td>\n",
       "      <td>2.0</td>\n",
       "      <td>2.0</td>\n",
       "      <td>57584267442</td>\n",
       "      <td>481</td>\n",
       "      <td>329</td>\n",
       "      <td>17</td>\n",
       "    </tr>\n",
       "    <tr>\n",
       "      <th>1</th>\n",
       "      <td>878</td>\n",
       "      <td>57584</td>\n",
       "      <td>2674</td>\n",
       "      <td>Sideline</td>\n",
       "      <td>57584_002674_Sideline.mp4</td>\n",
       "      <td>42</td>\n",
       "      <td>H65</td>\n",
       "      <td>399</td>\n",
       "      <td>12</td>\n",
       "      <td>424</td>\n",
       "      <td>14</td>\n",
       "      <td>1.0</td>\n",
       "      <td>Helmet</td>\n",
       "      <td>2.0</td>\n",
       "      <td>1.0</td>\n",
       "      <td>57584267442789</td>\n",
       "      <td>411</td>\n",
       "      <td>438</td>\n",
       "      <td>22</td>\n",
       "    </tr>\n",
       "    <tr>\n",
       "      <th>2</th>\n",
       "      <td>942</td>\n",
       "      <td>57584</td>\n",
       "      <td>2674</td>\n",
       "      <td>Endzone</td>\n",
       "      <td>57584_002674_Endzone.mp4</td>\n",
       "      <td>54</td>\n",
       "      <td>H82</td>\n",
       "      <td>248</td>\n",
       "      <td>15</td>\n",
       "      <td>283</td>\n",
       "      <td>24</td>\n",
       "      <td>1.0</td>\n",
       "      <td>Helmet</td>\n",
       "      <td>3.0</td>\n",
       "      <td>3.0</td>\n",
       "      <td>57584267454</td>\n",
       "      <td>263</td>\n",
       "      <td>307</td>\n",
       "      <td>17</td>\n",
       "    </tr>\n",
       "    <tr>\n",
       "      <th>3</th>\n",
       "      <td>195</td>\n",
       "      <td>57584</td>\n",
       "      <td>2674</td>\n",
       "      <td>Sideline</td>\n",
       "      <td>57584_002674_Sideline.mp4</td>\n",
       "      <td>54</td>\n",
       "      <td>V90</td>\n",
       "      <td>392</td>\n",
       "      <td>13</td>\n",
       "      <td>478</td>\n",
       "      <td>12</td>\n",
       "      <td>1.0</td>\n",
       "      <td>Helmet</td>\n",
       "      <td>3.0</td>\n",
       "      <td>3.0</td>\n",
       "      <td>57584267454789</td>\n",
       "      <td>405</td>\n",
       "      <td>490</td>\n",
       "      <td>22</td>\n",
       "    </tr>\n",
       "    <tr>\n",
       "      <th>4</th>\n",
       "      <td>151</td>\n",
       "      <td>57584</td>\n",
       "      <td>2674</td>\n",
       "      <td>Endzone</td>\n",
       "      <td>57584_002674_Endzone.mp4</td>\n",
       "      <td>88</td>\n",
       "      <td>V54</td>\n",
       "      <td>658</td>\n",
       "      <td>19</td>\n",
       "      <td>372</td>\n",
       "      <td>16</td>\n",
       "      <td>1.0</td>\n",
       "      <td>Helmet</td>\n",
       "      <td>2.0</td>\n",
       "      <td>3.0</td>\n",
       "      <td>57584267488</td>\n",
       "      <td>677</td>\n",
       "      <td>388</td>\n",
       "      <td>16</td>\n",
       "    </tr>\n",
       "    <tr>\n",
       "      <th>...</th>\n",
       "      <td>...</td>\n",
       "      <td>...</td>\n",
       "      <td>...</td>\n",
       "      <td>...</td>\n",
       "      <td>...</td>\n",
       "      <td>...</td>\n",
       "      <td>...</td>\n",
       "      <td>...</td>\n",
       "      <td>...</td>\n",
       "      <td>...</td>\n",
       "      <td>...</td>\n",
       "      <td>...</td>\n",
       "      <td>...</td>\n",
       "      <td>...</td>\n",
       "      <td>...</td>\n",
       "      <td>...</td>\n",
       "      <td>...</td>\n",
       "      <td>...</td>\n",
       "      <td>...</td>\n",
       "    </tr>\n",
       "    <tr>\n",
       "      <th>1076</th>\n",
       "      <td>1245</td>\n",
       "      <td>58107</td>\n",
       "      <td>4362</td>\n",
       "      <td>Sideline</td>\n",
       "      <td>58107_004362_Sideline.mp4</td>\n",
       "      <td>40</td>\n",
       "      <td>V99</td>\n",
       "      <td>518</td>\n",
       "      <td>20</td>\n",
       "      <td>294</td>\n",
       "      <td>20</td>\n",
       "      <td>1.0</td>\n",
       "      <td>Helmet</td>\n",
       "      <td>3.0</td>\n",
       "      <td>3.0</td>\n",
       "      <td>58107436240789</td>\n",
       "      <td>538</td>\n",
       "      <td>314</td>\n",
       "      <td>22</td>\n",
       "    </tr>\n",
       "    <tr>\n",
       "      <th>1077</th>\n",
       "      <td>378</td>\n",
       "      <td>58107</td>\n",
       "      <td>4362</td>\n",
       "      <td>Endzone</td>\n",
       "      <td>58107_004362_Endzone.mp4</td>\n",
       "      <td>60</td>\n",
       "      <td>H88</td>\n",
       "      <td>899</td>\n",
       "      <td>27</td>\n",
       "      <td>313</td>\n",
       "      <td>25</td>\n",
       "      <td>1.0</td>\n",
       "      <td>Helmet</td>\n",
       "      <td>2.0</td>\n",
       "      <td>2.0</td>\n",
       "      <td>58107436260</td>\n",
       "      <td>926</td>\n",
       "      <td>338</td>\n",
       "      <td>20</td>\n",
       "    </tr>\n",
       "    <tr>\n",
       "      <th>1078</th>\n",
       "      <td>1067</td>\n",
       "      <td>58107</td>\n",
       "      <td>4362</td>\n",
       "      <td>Sideline</td>\n",
       "      <td>58107_004362_Sideline.mp4</td>\n",
       "      <td>62</td>\n",
       "      <td>V96</td>\n",
       "      <td>621</td>\n",
       "      <td>14</td>\n",
       "      <td>419</td>\n",
       "      <td>20</td>\n",
       "      <td>1.0</td>\n",
       "      <td>Helmet</td>\n",
       "      <td>2.0</td>\n",
       "      <td>2.0</td>\n",
       "      <td>58107436262789</td>\n",
       "      <td>635</td>\n",
       "      <td>439</td>\n",
       "      <td>22</td>\n",
       "    </tr>\n",
       "    <tr>\n",
       "      <th>1079</th>\n",
       "      <td>671</td>\n",
       "      <td>58107</td>\n",
       "      <td>4362</td>\n",
       "      <td>Endzone</td>\n",
       "      <td>58107_004362_Endzone.mp4</td>\n",
       "      <td>66</td>\n",
       "      <td>H71</td>\n",
       "      <td>155</td>\n",
       "      <td>26</td>\n",
       "      <td>315</td>\n",
       "      <td>21</td>\n",
       "      <td>1.0</td>\n",
       "      <td>Helmet</td>\n",
       "      <td>3.0</td>\n",
       "      <td>3.0</td>\n",
       "      <td>58107436266</td>\n",
       "      <td>181</td>\n",
       "      <td>336</td>\n",
       "      <td>19</td>\n",
       "    </tr>\n",
       "    <tr>\n",
       "      <th>1080</th>\n",
       "      <td>811</td>\n",
       "      <td>58107</td>\n",
       "      <td>4362</td>\n",
       "      <td>Sideline</td>\n",
       "      <td>58107_004362_Sideline.mp4</td>\n",
       "      <td>68</td>\n",
       "      <td>H71</td>\n",
       "      <td>426</td>\n",
       "      <td>15</td>\n",
       "      <td>254</td>\n",
       "      <td>13</td>\n",
       "      <td>1.0</td>\n",
       "      <td>Helmet</td>\n",
       "      <td>3.0</td>\n",
       "      <td>1.0</td>\n",
       "      <td>58107436268789</td>\n",
       "      <td>441</td>\n",
       "      <td>267</td>\n",
       "      <td>21</td>\n",
       "    </tr>\n",
       "  </tbody>\n",
       "</table>\n",
       "<p>1081 rows × 19 columns</p>\n",
       "</div>"
      ],
      "text/plain": [
       "      index  gameKey  playID      view                      video  frame  \\\n",
       "0      1021    57584    2674   Endzone   57584_002674_Endzone.mp4     42   \n",
       "1       878    57584    2674  Sideline  57584_002674_Sideline.mp4     42   \n",
       "2       942    57584    2674   Endzone   57584_002674_Endzone.mp4     54   \n",
       "3       195    57584    2674  Sideline  57584_002674_Sideline.mp4     54   \n",
       "4       151    57584    2674   Endzone   57584_002674_Endzone.mp4     88   \n",
       "...     ...      ...     ...       ...                        ...    ...   \n",
       "1076   1245    58107    4362  Sideline  58107_004362_Sideline.mp4     40   \n",
       "1077    378    58107    4362   Endzone   58107_004362_Endzone.mp4     60   \n",
       "1078   1067    58107    4362  Sideline  58107_004362_Sideline.mp4     62   \n",
       "1079    671    58107    4362   Endzone   58107_004362_Endzone.mp4     66   \n",
       "1080    811    58107    4362  Sideline  58107_004362_Sideline.mp4     68   \n",
       "\n",
       "     label  left  width  top  height  impact impactType  confidence  \\\n",
       "0      V95   462     19  313      16     1.0     Helmet         2.0   \n",
       "1      H65   399     12  424      14     1.0     Helmet         2.0   \n",
       "2      H82   248     15  283      24     1.0     Helmet         3.0   \n",
       "3      V90   392     13  478      12     1.0     Helmet         3.0   \n",
       "4      V54   658     19  372      16     1.0     Helmet         2.0   \n",
       "...    ...   ...    ...  ...     ...     ...        ...         ...   \n",
       "1076   V99   518     20  294      20     1.0     Helmet         3.0   \n",
       "1077   H88   899     27  313      25     1.0     Helmet         2.0   \n",
       "1078   V96   621     14  419      20     1.0     Helmet         2.0   \n",
       "1079   H71   155     26  315      21     1.0     Helmet         3.0   \n",
       "1080   H71   426     15  254      13     1.0     Helmet         3.0   \n",
       "\n",
       "      visibility        image_id  right  bottom  counts  \n",
       "0            2.0     57584267442    481     329      17  \n",
       "1            1.0  57584267442789    411     438      22  \n",
       "2            3.0     57584267454    263     307      17  \n",
       "3            3.0  57584267454789    405     490      22  \n",
       "4            3.0     57584267488    677     388      16  \n",
       "...          ...             ...    ...     ...     ...  \n",
       "1076         3.0  58107436240789    538     314      22  \n",
       "1077         2.0     58107436260    926     338      20  \n",
       "1078         2.0  58107436262789    635     439      22  \n",
       "1079         3.0     58107436266    181     336      19  \n",
       "1080         1.0  58107436268789    441     267      21  \n",
       "\n",
       "[1081 rows x 19 columns]"
      ]
     },
     "execution_count": 34,
     "metadata": {},
     "output_type": "execute_result"
    }
   ],
   "source": [
    "#Reset the index\n",
    "unique_df = unique_df.reset_index()\n",
    "unique_df"
   ]
  },
  {
   "cell_type": "markdown",
   "metadata": {},
   "source": [
    "# Capture Frames from Videos\n",
    "\n",
    "Using OpenCV throughout this project, here we are capturing each video frame in the unique dataframe as an array to be later encoded as JPEGs for training. If any of the arrays are not successfully captured, they are appended to a \"missing_list\" and removed from the dataset."
   ]
  },
  {
   "cell_type": "code",
   "execution_count": 35,
   "metadata": {},
   "outputs": [
    {
     "data": {
      "application/vnd.jupyter.widget-view+json": {
       "model_id": "ec846f2036b5420aafdc80aebbdc78fa",
       "version_major": 2,
       "version_minor": 0
      },
      "text/plain": [
       "HBox(children=(IntProgress(value=1, bar_style='info', max=1), HTML(value='')))"
      ]
     },
     "metadata": {},
     "output_type": "display_data"
    },
    {
     "name": "stdout",
     "output_type": "stream",
     "text": [
      "\n"
     ]
    }
   ],
   "source": [
    "#Capture images from videos\n",
    "video_list = []\n",
    "missing_list = []\n",
    "for i, j in tqdm.tqdm_notebook(enumerate(unique_df.video)):\n",
    "    cap = cv2.VideoCapture('train/' + j)\n",
    "    cap.set(cv2.CAP_PROP_POS_FRAMES, unique_df.frame[i])\n",
    "    success, img_array = cap.read()\n",
    "    if success == True:\n",
    "        video_list.append(img_array)\n",
    "    else:\n",
    "        missing_list.append(i)"
   ]
  },
  {
   "cell_type": "code",
   "execution_count": 36,
   "metadata": {},
   "outputs": [
    {
     "data": {
      "text/plain": [
       "0"
      ]
     },
     "execution_count": 36,
     "metadata": {},
     "output_type": "execute_result"
    }
   ],
   "source": [
    "#Preview how many images were not captured\n",
    "len(missing_list)"
   ]
  },
  {
   "cell_type": "code",
   "execution_count": 37,
   "metadata": {},
   "outputs": [],
   "source": [
    "#Create values to drop based on missing_list\n",
    "values_to_drop = unique_df.loc[missing_list]"
   ]
  },
  {
   "cell_type": "code",
   "execution_count": 38,
   "metadata": {},
   "outputs": [],
   "source": [
    "#Convert to list\n",
    "drop_list = values_to_drop['image_id'].values"
   ]
  },
  {
   "cell_type": "code",
   "execution_count": 39,
   "metadata": {},
   "outputs": [],
   "source": [
    "#Drop missing items from new_video_labels df\n",
    "for i in drop_list:\n",
    "    new_video_labels = new_video_labels[new_video_labels['image_id'] != i]"
   ]
  },
  {
   "cell_type": "code",
   "execution_count": 40,
   "metadata": {},
   "outputs": [
    {
     "name": "stdout",
     "output_type": "stream",
     "text": [
      "<class 'pandas.core.frame.DataFrame'>\n",
      "RangeIndex: 965575 entries, 0 to 965574\n",
      "Data columns (total 18 columns):\n",
      " #   Column      Non-Null Count   Dtype  \n",
      "---  ------      --------------   -----  \n",
      " 0   gameKey     965575 non-null  int64  \n",
      " 1   playID      965575 non-null  int64  \n",
      " 2   view        965575 non-null  object \n",
      " 3   video       965575 non-null  object \n",
      " 4   frame       965575 non-null  int64  \n",
      " 5   label       965575 non-null  object \n",
      " 6   left        965575 non-null  int64  \n",
      " 7   width       965575 non-null  int64  \n",
      " 8   top         965575 non-null  int64  \n",
      " 9   height      965575 non-null  int64  \n",
      " 10  impact      965575 non-null  float64\n",
      " 11  impactType  965575 non-null  object \n",
      " 12  confidence  965575 non-null  float64\n",
      " 13  visibility  965575 non-null  float64\n",
      " 14  image_id    965575 non-null  object \n",
      " 15  right       965575 non-null  int64  \n",
      " 16  bottom      965575 non-null  int64  \n",
      " 17  counts      965575 non-null  int64  \n",
      "dtypes: float64(3), int64(10), object(5)\n",
      "memory usage: 132.6+ MB\n"
     ]
    }
   ],
   "source": [
    "#Preview new_video_labels info\n",
    "new_video_labels.info()"
   ]
  },
  {
   "cell_type": "code",
   "execution_count": 41,
   "metadata": {},
   "outputs": [],
   "source": [
    "#Drop missing list from unique_df\n",
    "for i in drop_list:\n",
    "    unique_df = unique_df[unique_df['image_id'] != i]"
   ]
  },
  {
   "cell_type": "code",
   "execution_count": 42,
   "metadata": {},
   "outputs": [
    {
     "name": "stdout",
     "output_type": "stream",
     "text": [
      "<class 'pandas.core.frame.DataFrame'>\n",
      "RangeIndex: 1081 entries, 0 to 1080\n",
      "Data columns (total 19 columns):\n",
      " #   Column      Non-Null Count  Dtype  \n",
      "---  ------      --------------  -----  \n",
      " 0   index       1081 non-null   int64  \n",
      " 1   gameKey     1081 non-null   int64  \n",
      " 2   playID      1081 non-null   int64  \n",
      " 3   view        1081 non-null   object \n",
      " 4   video       1081 non-null   object \n",
      " 5   frame       1081 non-null   int64  \n",
      " 6   label       1081 non-null   object \n",
      " 7   left        1081 non-null   int64  \n",
      " 8   width       1081 non-null   int64  \n",
      " 9   top         1081 non-null   int64  \n",
      " 10  height      1081 non-null   int64  \n",
      " 11  impact      1081 non-null   float64\n",
      " 12  impactType  1081 non-null   object \n",
      " 13  confidence  1081 non-null   float64\n",
      " 14  visibility  1081 non-null   float64\n",
      " 15  image_id    1081 non-null   object \n",
      " 16  right       1081 non-null   int64  \n",
      " 17  bottom      1081 non-null   int64  \n",
      " 18  counts      1081 non-null   int64  \n",
      "dtypes: float64(3), int64(11), object(5)\n",
      "memory usage: 160.6+ KB\n"
     ]
    }
   ],
   "source": [
    "#Reset index\n",
    "unique_df = unique_df.reset_index(drop=True)\n",
    "unique_df.info()"
   ]
  },
  {
   "cell_type": "code",
   "execution_count": 43,
   "metadata": {
    "id": "n2LT4OqIvqrT"
   },
   "outputs": [],
   "source": [
    "#Convert the video_list to an array\n",
    "train_arrays = np.array(video_list)"
   ]
  },
  {
   "cell_type": "code",
   "execution_count": 44,
   "metadata": {},
   "outputs": [
    {
     "data": {
      "text/plain": [
       "(1081, 720, 1280, 3)"
      ]
     },
     "execution_count": 44,
     "metadata": {},
     "output_type": "execute_result"
    }
   ],
   "source": [
    "#Preview the shape\n",
    "train_arrays.shape"
   ]
  },
  {
   "cell_type": "markdown",
   "metadata": {},
   "source": [
    "OpenCV inherently uses BGR (Blue, Green, Red) format for images, which is why the color may seem incorrect when previewing an image from an array."
   ]
  },
  {
   "cell_type": "code",
   "execution_count": 45,
   "metadata": {},
   "outputs": [],
   "source": [
    "# #Preview an image\n",
    "# array_to_img(train_arrays[0])"
   ]
  },
  {
   "cell_type": "code",
   "execution_count": 46,
   "metadata": {
    "id": "GTus5C9uvqrT"
   },
   "outputs": [
    {
     "data": {
      "text/plain": [
       "(1081, 720, 1280, 3)"
      ]
     },
     "execution_count": 46,
     "metadata": {},
     "output_type": "execute_result"
    }
   ],
   "source": [
    "#Preview the shape\n",
    "train_arrays.shape"
   ]
  },
  {
   "cell_type": "code",
   "execution_count": 47,
   "metadata": {},
   "outputs": [
    {
     "data": {
      "text/html": [
       "<div>\n",
       "<style scoped>\n",
       "    .dataframe tbody tr th:only-of-type {\n",
       "        vertical-align: middle;\n",
       "    }\n",
       "\n",
       "    .dataframe tbody tr th {\n",
       "        vertical-align: top;\n",
       "    }\n",
       "\n",
       "    .dataframe thead th {\n",
       "        text-align: right;\n",
       "    }\n",
       "</style>\n",
       "<table border=\"1\" class=\"dataframe\">\n",
       "  <thead>\n",
       "    <tr style=\"text-align: right;\">\n",
       "      <th></th>\n",
       "      <th>gameKey</th>\n",
       "      <th>playID</th>\n",
       "      <th>frame</th>\n",
       "      <th>left</th>\n",
       "      <th>width</th>\n",
       "      <th>top</th>\n",
       "      <th>height</th>\n",
       "      <th>impact</th>\n",
       "      <th>confidence</th>\n",
       "      <th>visibility</th>\n",
       "      <th>right</th>\n",
       "      <th>bottom</th>\n",
       "      <th>counts</th>\n",
       "    </tr>\n",
       "  </thead>\n",
       "  <tbody>\n",
       "    <tr>\n",
       "      <th>count</th>\n",
       "      <td>965575.000000</td>\n",
       "      <td>965575.000000</td>\n",
       "      <td>965575.000000</td>\n",
       "      <td>965575.000000</td>\n",
       "      <td>965575.000000</td>\n",
       "      <td>965575.000000</td>\n",
       "      <td>965575.000000</td>\n",
       "      <td>965575.000000</td>\n",
       "      <td>965575.000000</td>\n",
       "      <td>965575.000000</td>\n",
       "      <td>965575.000000</td>\n",
       "      <td>965575.000000</td>\n",
       "      <td>965575.000000</td>\n",
       "    </tr>\n",
       "    <tr>\n",
       "      <th>mean</th>\n",
       "      <td>57855.721240</td>\n",
       "      <td>1883.408814</td>\n",
       "      <td>213.227511</td>\n",
       "      <td>633.583134</td>\n",
       "      <td>21.765686</td>\n",
       "      <td>292.295485</td>\n",
       "      <td>23.247350</td>\n",
       "      <td>0.001326</td>\n",
       "      <td>0.005529</td>\n",
       "      <td>0.004543</td>\n",
       "      <td>655.348820</td>\n",
       "      <td>315.542835</td>\n",
       "      <td>19.874426</td>\n",
       "    </tr>\n",
       "    <tr>\n",
       "      <th>std</th>\n",
       "      <td>176.138161</td>\n",
       "      <td>1275.274206</td>\n",
       "      <td>132.051988</td>\n",
       "      <td>242.441839</td>\n",
       "      <td>9.984828</td>\n",
       "      <td>115.405899</td>\n",
       "      <td>10.930415</td>\n",
       "      <td>0.036385</td>\n",
       "      <td>0.119191</td>\n",
       "      <td>0.104017</td>\n",
       "      <td>242.402824</td>\n",
       "      <td>114.107070</td>\n",
       "      <td>4.422094</td>\n",
       "    </tr>\n",
       "    <tr>\n",
       "      <th>min</th>\n",
       "      <td>57584.000000</td>\n",
       "      <td>86.000000</td>\n",
       "      <td>1.000000</td>\n",
       "      <td>0.000000</td>\n",
       "      <td>3.000000</td>\n",
       "      <td>0.000000</td>\n",
       "      <td>3.000000</td>\n",
       "      <td>0.000000</td>\n",
       "      <td>0.000000</td>\n",
       "      <td>0.000000</td>\n",
       "      <td>3.000000</td>\n",
       "      <td>3.000000</td>\n",
       "      <td>2.000000</td>\n",
       "    </tr>\n",
       "    <tr>\n",
       "      <th>25%</th>\n",
       "      <td>57684.000000</td>\n",
       "      <td>658.000000</td>\n",
       "      <td>102.000000</td>\n",
       "      <td>484.000000</td>\n",
       "      <td>14.000000</td>\n",
       "      <td>230.000000</td>\n",
       "      <td>15.000000</td>\n",
       "      <td>0.000000</td>\n",
       "      <td>0.000000</td>\n",
       "      <td>0.000000</td>\n",
       "      <td>505.000000</td>\n",
       "      <td>255.000000</td>\n",
       "      <td>17.000000</td>\n",
       "    </tr>\n",
       "    <tr>\n",
       "      <th>50%</th>\n",
       "      <td>57905.000000</td>\n",
       "      <td>1923.000000</td>\n",
       "      <td>204.000000</td>\n",
       "      <td>637.000000</td>\n",
       "      <td>21.000000</td>\n",
       "      <td>294.000000</td>\n",
       "      <td>21.000000</td>\n",
       "      <td>0.000000</td>\n",
       "      <td>0.000000</td>\n",
       "      <td>0.000000</td>\n",
       "      <td>658.000000</td>\n",
       "      <td>316.000000</td>\n",
       "      <td>19.000000</td>\n",
       "    </tr>\n",
       "    <tr>\n",
       "      <th>75%</th>\n",
       "      <td>57998.000000</td>\n",
       "      <td>2839.000000</td>\n",
       "      <td>313.000000</td>\n",
       "      <td>790.000000</td>\n",
       "      <td>27.000000</td>\n",
       "      <td>353.000000</td>\n",
       "      <td>30.000000</td>\n",
       "      <td>0.000000</td>\n",
       "      <td>0.000000</td>\n",
       "      <td>0.000000</td>\n",
       "      <td>810.000000</td>\n",
       "      <td>374.000000</td>\n",
       "      <td>22.000000</td>\n",
       "    </tr>\n",
       "    <tr>\n",
       "      <th>max</th>\n",
       "      <td>58107.000000</td>\n",
       "      <td>4362.000000</td>\n",
       "      <td>616.000000</td>\n",
       "      <td>1277.000000</td>\n",
       "      <td>78.000000</td>\n",
       "      <td>717.000000</td>\n",
       "      <td>82.000000</td>\n",
       "      <td>1.000000</td>\n",
       "      <td>3.000000</td>\n",
       "      <td>3.000000</td>\n",
       "      <td>1280.000000</td>\n",
       "      <td>720.000000</td>\n",
       "      <td>43.000000</td>\n",
       "    </tr>\n",
       "  </tbody>\n",
       "</table>\n",
       "</div>"
      ],
      "text/plain": [
       "             gameKey         playID          frame           left  \\\n",
       "count  965575.000000  965575.000000  965575.000000  965575.000000   \n",
       "mean    57855.721240    1883.408814     213.227511     633.583134   \n",
       "std       176.138161    1275.274206     132.051988     242.441839   \n",
       "min     57584.000000      86.000000       1.000000       0.000000   \n",
       "25%     57684.000000     658.000000     102.000000     484.000000   \n",
       "50%     57905.000000    1923.000000     204.000000     637.000000   \n",
       "75%     57998.000000    2839.000000     313.000000     790.000000   \n",
       "max     58107.000000    4362.000000     616.000000    1277.000000   \n",
       "\n",
       "               width            top         height         impact  \\\n",
       "count  965575.000000  965575.000000  965575.000000  965575.000000   \n",
       "mean       21.765686     292.295485      23.247350       0.001326   \n",
       "std         9.984828     115.405899      10.930415       0.036385   \n",
       "min         3.000000       0.000000       3.000000       0.000000   \n",
       "25%        14.000000     230.000000      15.000000       0.000000   \n",
       "50%        21.000000     294.000000      21.000000       0.000000   \n",
       "75%        27.000000     353.000000      30.000000       0.000000   \n",
       "max        78.000000     717.000000      82.000000       1.000000   \n",
       "\n",
       "          confidence     visibility          right         bottom  \\\n",
       "count  965575.000000  965575.000000  965575.000000  965575.000000   \n",
       "mean        0.005529       0.004543     655.348820     315.542835   \n",
       "std         0.119191       0.104017     242.402824     114.107070   \n",
       "min         0.000000       0.000000       3.000000       3.000000   \n",
       "25%         0.000000       0.000000     505.000000     255.000000   \n",
       "50%         0.000000       0.000000     658.000000     316.000000   \n",
       "75%         0.000000       0.000000     810.000000     374.000000   \n",
       "max         3.000000       3.000000    1280.000000     720.000000   \n",
       "\n",
       "              counts  \n",
       "count  965575.000000  \n",
       "mean       19.874426  \n",
       "std         4.422094  \n",
       "min         2.000000  \n",
       "25%        17.000000  \n",
       "50%        19.000000  \n",
       "75%        22.000000  \n",
       "max        43.000000  "
      ]
     },
     "execution_count": 47,
     "metadata": {},
     "output_type": "execute_result"
    }
   ],
   "source": [
    "#Preview stats of new_video_labels\n",
    "new_video_labels.describe()"
   ]
  },
  {
   "cell_type": "code",
   "execution_count": 48,
   "metadata": {},
   "outputs": [],
   "source": [
    "#Renaming the variable\n",
    "training_images = train_arrays"
   ]
  },
  {
   "cell_type": "code",
   "execution_count": 49,
   "metadata": {
    "id": "h-jLGpE6vqrU"
   },
   "outputs": [],
   "source": [
    "#Renaming the new_video_labels_df as bb_df (bounding box dataframe) for clarity \n",
    "bb_df = new_video_labels.copy()"
   ]
  },
  {
   "cell_type": "code",
   "execution_count": 50,
   "metadata": {
    "id": "G4iNIJAXvqrU",
    "scrolled": true
   },
   "outputs": [
    {
     "name": "stdout",
     "output_type": "stream",
     "text": [
      "<class 'pandas.core.frame.DataFrame'>\n",
      "RangeIndex: 965575 entries, 0 to 965574\n",
      "Data columns (total 18 columns):\n",
      " #   Column      Non-Null Count   Dtype  \n",
      "---  ------      --------------   -----  \n",
      " 0   gameKey     965575 non-null  int64  \n",
      " 1   playID      965575 non-null  int64  \n",
      " 2   view        965575 non-null  object \n",
      " 3   video       965575 non-null  object \n",
      " 4   frame       965575 non-null  int64  \n",
      " 5   label       965575 non-null  object \n",
      " 6   left        965575 non-null  int64  \n",
      " 7   width       965575 non-null  int64  \n",
      " 8   top         965575 non-null  int64  \n",
      " 9   height      965575 non-null  int64  \n",
      " 10  impact      965575 non-null  float64\n",
      " 11  impactType  965575 non-null  object \n",
      " 12  confidence  965575 non-null  float64\n",
      " 13  visibility  965575 non-null  float64\n",
      " 14  image_id    965575 non-null  object \n",
      " 15  right       965575 non-null  int64  \n",
      " 16  bottom      965575 non-null  int64  \n",
      " 17  counts      965575 non-null  int64  \n",
      "dtypes: float64(3), int64(10), object(5)\n",
      "memory usage: 132.6+ MB\n"
     ]
    }
   ],
   "source": [
    "#Preview info of bounding box dataframe\n",
    "bb_df.info()"
   ]
  },
  {
   "cell_type": "code",
   "execution_count": 51,
   "metadata": {
    "id": "5vkHxGblvqrU"
   },
   "outputs": [],
   "source": [
    "#Rename the impact column to labels\n",
    "bb_df.rename({'impact': 'labels'}, axis=1, inplace=True)\n",
    "unique_df.rename({'impact': 'labels'}, axis=1, inplace=True)"
   ]
  },
  {
   "cell_type": "code",
   "execution_count": 52,
   "metadata": {},
   "outputs": [],
   "source": [
    "#Convert labels to integers\n",
    "bb_df['labels'] = bb_df['labels'].astype(int)\n",
    "unique_df['labels'] = unique_df['labels'].astype(int)"
   ]
  },
  {
   "cell_type": "code",
   "execution_count": 53,
   "metadata": {},
   "outputs": [],
   "source": [
    "#Convert bounding boxes to floats\n",
    "bb_df['top'] = bb_df['top'].astype(float)\n",
    "bb_df['left'] = bb_df['left'].astype(float)\n",
    "bb_df['width'] = bb_df['width'].astype(float)\n",
    "bb_df['height'] = bb_df['height'].astype(float)\n",
    "bb_df['right'] = bb_df['right'].astype(float)\n",
    "bb_df['bottom'] = bb_df['bottom'].astype(float)\n",
    "\n",
    "unique_df['top'] = unique_df['top'].astype(float)\n",
    "unique_df['left'] = unique_df['left'].astype(float)\n",
    "unique_df['width'] = unique_df['width'].astype(float)\n",
    "unique_df['height'] = unique_df['height'].astype(float)\n",
    "unique_df['right'] = unique_df['right'].astype(float)\n",
    "unique_df['bottom'] = unique_df['bottom'].astype(float)"
   ]
  },
  {
   "cell_type": "code",
   "execution_count": 54,
   "metadata": {
    "id": "-kTK4F2wvqrV"
   },
   "outputs": [],
   "source": [
    "#Define columns included in the bb_df dataframe\n",
    "bb_df = bb_df[['gameKey', 'playID', 'view', 'video', 'frame', \n",
    "               'labels', 'impactType', 'left', 'top', 'right', \n",
    "               'bottom', 'width', 'height', 'image_id', 'counts']]"
   ]
  },
  {
   "cell_type": "code",
   "execution_count": 55,
   "metadata": {},
   "outputs": [],
   "source": [
    "#Define columns included in the unique_df\n",
    "unique_df = unique_df[['gameKey', 'playID', 'view', 'video', 'frame',\n",
    "                       'labels', 'impactType', 'left', 'top', 'right',\n",
    "                       'bottom', 'width', 'height', 'image_id', 'counts']]"
   ]
  },
  {
   "cell_type": "code",
   "execution_count": 56,
   "metadata": {
    "id": "I0sCxgwKvqrV",
    "scrolled": true
   },
   "outputs": [
    {
     "name": "stdout",
     "output_type": "stream",
     "text": [
      "<class 'pandas.core.frame.DataFrame'>\n",
      "RangeIndex: 965575 entries, 0 to 965574\n",
      "Data columns (total 15 columns):\n",
      " #   Column      Non-Null Count   Dtype  \n",
      "---  ------      --------------   -----  \n",
      " 0   gameKey     965575 non-null  int64  \n",
      " 1   playID      965575 non-null  int64  \n",
      " 2   view        965575 non-null  object \n",
      " 3   video       965575 non-null  object \n",
      " 4   frame       965575 non-null  int64  \n",
      " 5   labels      965575 non-null  int64  \n",
      " 6   impactType  965575 non-null  object \n",
      " 7   left        965575 non-null  float64\n",
      " 8   top         965575 non-null  float64\n",
      " 9   right       965575 non-null  float64\n",
      " 10  bottom      965575 non-null  float64\n",
      " 11  width       965575 non-null  float64\n",
      " 12  height      965575 non-null  float64\n",
      " 13  image_id    965575 non-null  object \n",
      " 14  counts      965575 non-null  int64  \n",
      "dtypes: float64(6), int64(5), object(4)\n",
      "memory usage: 110.5+ MB\n"
     ]
    },
    {
     "data": {
      "text/plain": [
       "None"
      ]
     },
     "metadata": {},
     "output_type": "display_data"
    },
    {
     "data": {
      "text/html": [
       "<div>\n",
       "<style scoped>\n",
       "    .dataframe tbody tr th:only-of-type {\n",
       "        vertical-align: middle;\n",
       "    }\n",
       "\n",
       "    .dataframe tbody tr th {\n",
       "        vertical-align: top;\n",
       "    }\n",
       "\n",
       "    .dataframe thead th {\n",
       "        text-align: right;\n",
       "    }\n",
       "</style>\n",
       "<table border=\"1\" class=\"dataframe\">\n",
       "  <thead>\n",
       "    <tr style=\"text-align: right;\">\n",
       "      <th></th>\n",
       "      <th>gameKey</th>\n",
       "      <th>playID</th>\n",
       "      <th>view</th>\n",
       "      <th>video</th>\n",
       "      <th>frame</th>\n",
       "      <th>labels</th>\n",
       "      <th>impactType</th>\n",
       "      <th>left</th>\n",
       "      <th>top</th>\n",
       "      <th>right</th>\n",
       "      <th>bottom</th>\n",
       "      <th>width</th>\n",
       "      <th>height</th>\n",
       "      <th>image_id</th>\n",
       "      <th>counts</th>\n",
       "    </tr>\n",
       "  </thead>\n",
       "  <tbody>\n",
       "    <tr>\n",
       "      <th>0</th>\n",
       "      <td>57586</td>\n",
       "      <td>540</td>\n",
       "      <td>Endzone</td>\n",
       "      <td>57586_000540_Endzone.mp4</td>\n",
       "      <td>232</td>\n",
       "      <td>1</td>\n",
       "      <td>Helmet</td>\n",
       "      <td>611.0</td>\n",
       "      <td>317.0</td>\n",
       "      <td>638.0</td>\n",
       "      <td>342.0</td>\n",
       "      <td>27.0</td>\n",
       "      <td>25.0</td>\n",
       "      <td>57586540232</td>\n",
       "      <td>16</td>\n",
       "    </tr>\n",
       "    <tr>\n",
       "      <th>1</th>\n",
       "      <td>58094</td>\n",
       "      <td>2819</td>\n",
       "      <td>Endzone</td>\n",
       "      <td>58094_002819_Endzone.mp4</td>\n",
       "      <td>185</td>\n",
       "      <td>1</td>\n",
       "      <td>Helmet</td>\n",
       "      <td>832.0</td>\n",
       "      <td>303.0</td>\n",
       "      <td>851.0</td>\n",
       "      <td>325.0</td>\n",
       "      <td>19.0</td>\n",
       "      <td>22.0</td>\n",
       "      <td>580942819185</td>\n",
       "      <td>17</td>\n",
       "    </tr>\n",
       "    <tr>\n",
       "      <th>2</th>\n",
       "      <td>57790</td>\n",
       "      <td>2792</td>\n",
       "      <td>Endzone</td>\n",
       "      <td>57790_002792_Endzone.mp4</td>\n",
       "      <td>65</td>\n",
       "      <td>1</td>\n",
       "      <td>Helmet</td>\n",
       "      <td>1125.0</td>\n",
       "      <td>294.0</td>\n",
       "      <td>1150.0</td>\n",
       "      <td>324.0</td>\n",
       "      <td>25.0</td>\n",
       "      <td>30.0</td>\n",
       "      <td>57790279265</td>\n",
       "      <td>20</td>\n",
       "    </tr>\n",
       "    <tr>\n",
       "      <th>3</th>\n",
       "      <td>58094</td>\n",
       "      <td>423</td>\n",
       "      <td>Endzone</td>\n",
       "      <td>58094_000423_Endzone.mp4</td>\n",
       "      <td>151</td>\n",
       "      <td>1</td>\n",
       "      <td>Helmet</td>\n",
       "      <td>894.0</td>\n",
       "      <td>287.0</td>\n",
       "      <td>916.0</td>\n",
       "      <td>317.0</td>\n",
       "      <td>22.0</td>\n",
       "      <td>30.0</td>\n",
       "      <td>58094423151</td>\n",
       "      <td>20</td>\n",
       "    </tr>\n",
       "    <tr>\n",
       "      <th>4</th>\n",
       "      <td>57913</td>\n",
       "      <td>218</td>\n",
       "      <td>Sideline</td>\n",
       "      <td>57913_000218_Sideline.mp4</td>\n",
       "      <td>37</td>\n",
       "      <td>1</td>\n",
       "      <td>Helmet</td>\n",
       "      <td>760.0</td>\n",
       "      <td>242.0</td>\n",
       "      <td>772.0</td>\n",
       "      <td>257.0</td>\n",
       "      <td>12.0</td>\n",
       "      <td>15.0</td>\n",
       "      <td>5791321837789</td>\n",
       "      <td>22</td>\n",
       "    </tr>\n",
       "  </tbody>\n",
       "</table>\n",
       "</div>"
      ],
      "text/plain": [
       "   gameKey  playID      view                      video  frame  labels  \\\n",
       "0    57586     540   Endzone   57586_000540_Endzone.mp4    232       1   \n",
       "1    58094    2819   Endzone   58094_002819_Endzone.mp4    185       1   \n",
       "2    57790    2792   Endzone   57790_002792_Endzone.mp4     65       1   \n",
       "3    58094     423   Endzone   58094_000423_Endzone.mp4    151       1   \n",
       "4    57913     218  Sideline  57913_000218_Sideline.mp4     37       1   \n",
       "\n",
       "  impactType    left    top   right  bottom  width  height       image_id  \\\n",
       "0     Helmet   611.0  317.0   638.0   342.0   27.0    25.0    57586540232   \n",
       "1     Helmet   832.0  303.0   851.0   325.0   19.0    22.0   580942819185   \n",
       "2     Helmet  1125.0  294.0  1150.0   324.0   25.0    30.0    57790279265   \n",
       "3     Helmet   894.0  287.0   916.0   317.0   22.0    30.0    58094423151   \n",
       "4     Helmet   760.0  242.0   772.0   257.0   12.0    15.0  5791321837789   \n",
       "\n",
       "   counts  \n",
       "0      16  \n",
       "1      17  \n",
       "2      20  \n",
       "3      20  \n",
       "4      22  "
      ]
     },
     "execution_count": 56,
     "metadata": {},
     "output_type": "execute_result"
    }
   ],
   "source": [
    "#Preview updated dataframe\n",
    "display(bb_df.info())\n",
    "bb_df.head()"
   ]
  },
  {
   "cell_type": "code",
   "execution_count": 57,
   "metadata": {},
   "outputs": [
    {
     "name": "stdout",
     "output_type": "stream",
     "text": [
      "<class 'pandas.core.frame.DataFrame'>\n",
      "RangeIndex: 1081 entries, 0 to 1080\n",
      "Data columns (total 15 columns):\n",
      " #   Column      Non-Null Count  Dtype  \n",
      "---  ------      --------------  -----  \n",
      " 0   gameKey     1081 non-null   int64  \n",
      " 1   playID      1081 non-null   int64  \n",
      " 2   view        1081 non-null   object \n",
      " 3   video       1081 non-null   object \n",
      " 4   frame       1081 non-null   int64  \n",
      " 5   labels      1081 non-null   int64  \n",
      " 6   impactType  1081 non-null   object \n",
      " 7   left        1081 non-null   float64\n",
      " 8   top         1081 non-null   float64\n",
      " 9   right       1081 non-null   float64\n",
      " 10  bottom      1081 non-null   float64\n",
      " 11  width       1081 non-null   float64\n",
      " 12  height      1081 non-null   float64\n",
      " 13  image_id    1081 non-null   object \n",
      " 14  counts      1081 non-null   int64  \n",
      "dtypes: float64(6), int64(5), object(4)\n",
      "memory usage: 126.8+ KB\n"
     ]
    },
    {
     "data": {
      "text/plain": [
       "None"
      ]
     },
     "metadata": {},
     "output_type": "display_data"
    },
    {
     "data": {
      "text/html": [
       "<div>\n",
       "<style scoped>\n",
       "    .dataframe tbody tr th:only-of-type {\n",
       "        vertical-align: middle;\n",
       "    }\n",
       "\n",
       "    .dataframe tbody tr th {\n",
       "        vertical-align: top;\n",
       "    }\n",
       "\n",
       "    .dataframe thead th {\n",
       "        text-align: right;\n",
       "    }\n",
       "</style>\n",
       "<table border=\"1\" class=\"dataframe\">\n",
       "  <thead>\n",
       "    <tr style=\"text-align: right;\">\n",
       "      <th></th>\n",
       "      <th>gameKey</th>\n",
       "      <th>playID</th>\n",
       "      <th>view</th>\n",
       "      <th>video</th>\n",
       "      <th>frame</th>\n",
       "      <th>labels</th>\n",
       "      <th>impactType</th>\n",
       "      <th>left</th>\n",
       "      <th>top</th>\n",
       "      <th>right</th>\n",
       "      <th>bottom</th>\n",
       "      <th>width</th>\n",
       "      <th>height</th>\n",
       "      <th>image_id</th>\n",
       "      <th>counts</th>\n",
       "    </tr>\n",
       "  </thead>\n",
       "  <tbody>\n",
       "    <tr>\n",
       "      <th>0</th>\n",
       "      <td>57584</td>\n",
       "      <td>2674</td>\n",
       "      <td>Endzone</td>\n",
       "      <td>57584_002674_Endzone.mp4</td>\n",
       "      <td>42</td>\n",
       "      <td>1</td>\n",
       "      <td>Helmet</td>\n",
       "      <td>462.0</td>\n",
       "      <td>313.0</td>\n",
       "      <td>481.0</td>\n",
       "      <td>329.0</td>\n",
       "      <td>19.0</td>\n",
       "      <td>16.0</td>\n",
       "      <td>57584267442</td>\n",
       "      <td>17</td>\n",
       "    </tr>\n",
       "    <tr>\n",
       "      <th>1</th>\n",
       "      <td>57584</td>\n",
       "      <td>2674</td>\n",
       "      <td>Sideline</td>\n",
       "      <td>57584_002674_Sideline.mp4</td>\n",
       "      <td>42</td>\n",
       "      <td>1</td>\n",
       "      <td>Helmet</td>\n",
       "      <td>399.0</td>\n",
       "      <td>424.0</td>\n",
       "      <td>411.0</td>\n",
       "      <td>438.0</td>\n",
       "      <td>12.0</td>\n",
       "      <td>14.0</td>\n",
       "      <td>57584267442789</td>\n",
       "      <td>22</td>\n",
       "    </tr>\n",
       "    <tr>\n",
       "      <th>2</th>\n",
       "      <td>57584</td>\n",
       "      <td>2674</td>\n",
       "      <td>Endzone</td>\n",
       "      <td>57584_002674_Endzone.mp4</td>\n",
       "      <td>54</td>\n",
       "      <td>1</td>\n",
       "      <td>Helmet</td>\n",
       "      <td>248.0</td>\n",
       "      <td>283.0</td>\n",
       "      <td>263.0</td>\n",
       "      <td>307.0</td>\n",
       "      <td>15.0</td>\n",
       "      <td>24.0</td>\n",
       "      <td>57584267454</td>\n",
       "      <td>17</td>\n",
       "    </tr>\n",
       "    <tr>\n",
       "      <th>3</th>\n",
       "      <td>57584</td>\n",
       "      <td>2674</td>\n",
       "      <td>Sideline</td>\n",
       "      <td>57584_002674_Sideline.mp4</td>\n",
       "      <td>54</td>\n",
       "      <td>1</td>\n",
       "      <td>Helmet</td>\n",
       "      <td>392.0</td>\n",
       "      <td>478.0</td>\n",
       "      <td>405.0</td>\n",
       "      <td>490.0</td>\n",
       "      <td>13.0</td>\n",
       "      <td>12.0</td>\n",
       "      <td>57584267454789</td>\n",
       "      <td>22</td>\n",
       "    </tr>\n",
       "    <tr>\n",
       "      <th>4</th>\n",
       "      <td>57584</td>\n",
       "      <td>2674</td>\n",
       "      <td>Endzone</td>\n",
       "      <td>57584_002674_Endzone.mp4</td>\n",
       "      <td>88</td>\n",
       "      <td>1</td>\n",
       "      <td>Helmet</td>\n",
       "      <td>658.0</td>\n",
       "      <td>372.0</td>\n",
       "      <td>677.0</td>\n",
       "      <td>388.0</td>\n",
       "      <td>19.0</td>\n",
       "      <td>16.0</td>\n",
       "      <td>57584267488</td>\n",
       "      <td>16</td>\n",
       "    </tr>\n",
       "  </tbody>\n",
       "</table>\n",
       "</div>"
      ],
      "text/plain": [
       "   gameKey  playID      view                      video  frame  labels  \\\n",
       "0    57584    2674   Endzone   57584_002674_Endzone.mp4     42       1   \n",
       "1    57584    2674  Sideline  57584_002674_Sideline.mp4     42       1   \n",
       "2    57584    2674   Endzone   57584_002674_Endzone.mp4     54       1   \n",
       "3    57584    2674  Sideline  57584_002674_Sideline.mp4     54       1   \n",
       "4    57584    2674   Endzone   57584_002674_Endzone.mp4     88       1   \n",
       "\n",
       "  impactType   left    top  right  bottom  width  height        image_id  \\\n",
       "0     Helmet  462.0  313.0  481.0   329.0   19.0    16.0     57584267442   \n",
       "1     Helmet  399.0  424.0  411.0   438.0   12.0    14.0  57584267442789   \n",
       "2     Helmet  248.0  283.0  263.0   307.0   15.0    24.0     57584267454   \n",
       "3     Helmet  392.0  478.0  405.0   490.0   13.0    12.0  57584267454789   \n",
       "4     Helmet  658.0  372.0  677.0   388.0   19.0    16.0     57584267488   \n",
       "\n",
       "   counts  \n",
       "0      17  \n",
       "1      22  \n",
       "2      17  \n",
       "3      22  \n",
       "4      16  "
      ]
     },
     "execution_count": 57,
     "metadata": {},
     "output_type": "execute_result"
    }
   ],
   "source": [
    "#Preview updated dataframe\n",
    "display(unique_df.info())\n",
    "unique_df.head()"
   ]
  },
  {
   "cell_type": "code",
   "execution_count": 58,
   "metadata": {
    "id": "BTsW3FhhvqrW"
   },
   "outputs": [],
   "source": [
    "#Convert image_id to string\n",
    "bb_df['image_id'] = bb_df.image_id.astype(str)\n",
    "unique_df['image_id'] = unique_df.image_id.astype(str)"
   ]
  },
  {
   "cell_type": "code",
   "execution_count": 59,
   "metadata": {},
   "outputs": [],
   "source": [
    "#Create pic_id column\n",
    "bb_df['pic_id'] = bb_df.image_id.astype(str) + \".png\"\n",
    "unique_df['pic_id'] = unique_df.image_id.astype(str) + \".png\""
   ]
  },
  {
   "cell_type": "code",
   "execution_count": 60,
   "metadata": {},
   "outputs": [],
   "source": [
    "#Convert image_id back to integer\n",
    "bb_df['image_id'] = bb_df.image_id.astype(int)\n",
    "unique_df['image_id'] = unique_df.image_id.astype(int)"
   ]
  },
  {
   "cell_type": "code",
   "execution_count": 61,
   "metadata": {},
   "outputs": [],
   "source": [
    "#Reduce the bb_df to annotations related to unique_df\n",
    "bb_df = bb_df.loc[bb_df.image_id.isin(unique_df.image_id)]"
   ]
  },
  {
   "cell_type": "code",
   "execution_count": 62,
   "metadata": {},
   "outputs": [],
   "source": [
    "#Reset the index\n",
    "bb_df = bb_df.reset_index(drop=True)"
   ]
  },
  {
   "cell_type": "code",
   "execution_count": 63,
   "metadata": {},
   "outputs": [
    {
     "name": "stdout",
     "output_type": "stream",
     "text": [
      "<class 'pandas.core.frame.DataFrame'>\n",
      "RangeIndex: 1081 entries, 0 to 1080\n",
      "Data columns (total 16 columns):\n",
      " #   Column      Non-Null Count  Dtype  \n",
      "---  ------      --------------  -----  \n",
      " 0   gameKey     1081 non-null   int64  \n",
      " 1   playID      1081 non-null   int64  \n",
      " 2   view        1081 non-null   object \n",
      " 3   video       1081 non-null   object \n",
      " 4   frame       1081 non-null   int64  \n",
      " 5   labels      1081 non-null   int64  \n",
      " 6   impactType  1081 non-null   object \n",
      " 7   left        1081 non-null   float64\n",
      " 8   top         1081 non-null   float64\n",
      " 9   right       1081 non-null   float64\n",
      " 10  bottom      1081 non-null   float64\n",
      " 11  width       1081 non-null   float64\n",
      " 12  height      1081 non-null   float64\n",
      " 13  image_id    1081 non-null   int64  \n",
      " 14  counts      1081 non-null   int64  \n",
      " 15  pic_id      1081 non-null   object \n",
      "dtypes: float64(6), int64(6), object(4)\n",
      "memory usage: 135.2+ KB\n"
     ]
    },
    {
     "data": {
      "text/plain": [
       "None"
      ]
     },
     "metadata": {},
     "output_type": "display_data"
    },
    {
     "data": {
      "text/html": [
       "<div>\n",
       "<style scoped>\n",
       "    .dataframe tbody tr th:only-of-type {\n",
       "        vertical-align: middle;\n",
       "    }\n",
       "\n",
       "    .dataframe tbody tr th {\n",
       "        vertical-align: top;\n",
       "    }\n",
       "\n",
       "    .dataframe thead th {\n",
       "        text-align: right;\n",
       "    }\n",
       "</style>\n",
       "<table border=\"1\" class=\"dataframe\">\n",
       "  <thead>\n",
       "    <tr style=\"text-align: right;\">\n",
       "      <th></th>\n",
       "      <th>gameKey</th>\n",
       "      <th>playID</th>\n",
       "      <th>view</th>\n",
       "      <th>video</th>\n",
       "      <th>frame</th>\n",
       "      <th>labels</th>\n",
       "      <th>impactType</th>\n",
       "      <th>left</th>\n",
       "      <th>top</th>\n",
       "      <th>right</th>\n",
       "      <th>bottom</th>\n",
       "      <th>width</th>\n",
       "      <th>height</th>\n",
       "      <th>image_id</th>\n",
       "      <th>counts</th>\n",
       "      <th>pic_id</th>\n",
       "    </tr>\n",
       "  </thead>\n",
       "  <tbody>\n",
       "    <tr>\n",
       "      <th>0</th>\n",
       "      <td>57584</td>\n",
       "      <td>2674</td>\n",
       "      <td>Endzone</td>\n",
       "      <td>57584_002674_Endzone.mp4</td>\n",
       "      <td>42</td>\n",
       "      <td>1</td>\n",
       "      <td>Helmet</td>\n",
       "      <td>462.0</td>\n",
       "      <td>313.0</td>\n",
       "      <td>481.0</td>\n",
       "      <td>329.0</td>\n",
       "      <td>19.0</td>\n",
       "      <td>16.0</td>\n",
       "      <td>57584267442</td>\n",
       "      <td>17</td>\n",
       "      <td>57584267442.png</td>\n",
       "    </tr>\n",
       "    <tr>\n",
       "      <th>1</th>\n",
       "      <td>57584</td>\n",
       "      <td>2674</td>\n",
       "      <td>Sideline</td>\n",
       "      <td>57584_002674_Sideline.mp4</td>\n",
       "      <td>42</td>\n",
       "      <td>1</td>\n",
       "      <td>Helmet</td>\n",
       "      <td>399.0</td>\n",
       "      <td>424.0</td>\n",
       "      <td>411.0</td>\n",
       "      <td>438.0</td>\n",
       "      <td>12.0</td>\n",
       "      <td>14.0</td>\n",
       "      <td>57584267442789</td>\n",
       "      <td>22</td>\n",
       "      <td>57584267442789.png</td>\n",
       "    </tr>\n",
       "    <tr>\n",
       "      <th>2</th>\n",
       "      <td>57584</td>\n",
       "      <td>2674</td>\n",
       "      <td>Endzone</td>\n",
       "      <td>57584_002674_Endzone.mp4</td>\n",
       "      <td>54</td>\n",
       "      <td>1</td>\n",
       "      <td>Helmet</td>\n",
       "      <td>248.0</td>\n",
       "      <td>283.0</td>\n",
       "      <td>263.0</td>\n",
       "      <td>307.0</td>\n",
       "      <td>15.0</td>\n",
       "      <td>24.0</td>\n",
       "      <td>57584267454</td>\n",
       "      <td>17</td>\n",
       "      <td>57584267454.png</td>\n",
       "    </tr>\n",
       "    <tr>\n",
       "      <th>3</th>\n",
       "      <td>57584</td>\n",
       "      <td>2674</td>\n",
       "      <td>Sideline</td>\n",
       "      <td>57584_002674_Sideline.mp4</td>\n",
       "      <td>54</td>\n",
       "      <td>1</td>\n",
       "      <td>Helmet</td>\n",
       "      <td>392.0</td>\n",
       "      <td>478.0</td>\n",
       "      <td>405.0</td>\n",
       "      <td>490.0</td>\n",
       "      <td>13.0</td>\n",
       "      <td>12.0</td>\n",
       "      <td>57584267454789</td>\n",
       "      <td>22</td>\n",
       "      <td>57584267454789.png</td>\n",
       "    </tr>\n",
       "    <tr>\n",
       "      <th>4</th>\n",
       "      <td>57584</td>\n",
       "      <td>2674</td>\n",
       "      <td>Endzone</td>\n",
       "      <td>57584_002674_Endzone.mp4</td>\n",
       "      <td>88</td>\n",
       "      <td>1</td>\n",
       "      <td>Helmet</td>\n",
       "      <td>658.0</td>\n",
       "      <td>372.0</td>\n",
       "      <td>677.0</td>\n",
       "      <td>388.0</td>\n",
       "      <td>19.0</td>\n",
       "      <td>16.0</td>\n",
       "      <td>57584267488</td>\n",
       "      <td>16</td>\n",
       "      <td>57584267488.png</td>\n",
       "    </tr>\n",
       "  </tbody>\n",
       "</table>\n",
       "</div>"
      ],
      "text/plain": [
       "   gameKey  playID      view                      video  frame  labels  \\\n",
       "0    57584    2674   Endzone   57584_002674_Endzone.mp4     42       1   \n",
       "1    57584    2674  Sideline  57584_002674_Sideline.mp4     42       1   \n",
       "2    57584    2674   Endzone   57584_002674_Endzone.mp4     54       1   \n",
       "3    57584    2674  Sideline  57584_002674_Sideline.mp4     54       1   \n",
       "4    57584    2674   Endzone   57584_002674_Endzone.mp4     88       1   \n",
       "\n",
       "  impactType   left    top  right  bottom  width  height        image_id  \\\n",
       "0     Helmet  462.0  313.0  481.0   329.0   19.0    16.0     57584267442   \n",
       "1     Helmet  399.0  424.0  411.0   438.0   12.0    14.0  57584267442789   \n",
       "2     Helmet  248.0  283.0  263.0   307.0   15.0    24.0     57584267454   \n",
       "3     Helmet  392.0  478.0  405.0   490.0   13.0    12.0  57584267454789   \n",
       "4     Helmet  658.0  372.0  677.0   388.0   19.0    16.0     57584267488   \n",
       "\n",
       "   counts              pic_id  \n",
       "0      17     57584267442.png  \n",
       "1      22  57584267442789.png  \n",
       "2      17     57584267454.png  \n",
       "3      22  57584267454789.png  \n",
       "4      16     57584267488.png  "
      ]
     },
     "execution_count": 63,
     "metadata": {},
     "output_type": "execute_result"
    }
   ],
   "source": [
    "display(unique_df.info())\n",
    "unique_df.head()"
   ]
  },
  {
   "cell_type": "code",
   "execution_count": 64,
   "metadata": {
    "scrolled": true
   },
   "outputs": [
    {
     "name": "stdout",
     "output_type": "stream",
     "text": [
      "<class 'pandas.core.frame.DataFrame'>\n",
      "RangeIndex: 21843 entries, 0 to 21842\n",
      "Data columns (total 16 columns):\n",
      " #   Column      Non-Null Count  Dtype  \n",
      "---  ------      --------------  -----  \n",
      " 0   gameKey     21843 non-null  int64  \n",
      " 1   playID      21843 non-null  int64  \n",
      " 2   view        21843 non-null  object \n",
      " 3   video       21843 non-null  object \n",
      " 4   frame       21843 non-null  int64  \n",
      " 5   labels      21843 non-null  int64  \n",
      " 6   impactType  21843 non-null  object \n",
      " 7   left        21843 non-null  float64\n",
      " 8   top         21843 non-null  float64\n",
      " 9   right       21843 non-null  float64\n",
      " 10  bottom      21843 non-null  float64\n",
      " 11  width       21843 non-null  float64\n",
      " 12  height      21843 non-null  float64\n",
      " 13  image_id    21843 non-null  int64  \n",
      " 14  counts      21843 non-null  int64  \n",
      " 15  pic_id      21843 non-null  object \n",
      "dtypes: float64(6), int64(6), object(4)\n",
      "memory usage: 2.7+ MB\n"
     ]
    },
    {
     "data": {
      "text/plain": [
       "None"
      ]
     },
     "metadata": {},
     "output_type": "display_data"
    },
    {
     "data": {
      "text/html": [
       "<div>\n",
       "<style scoped>\n",
       "    .dataframe tbody tr th:only-of-type {\n",
       "        vertical-align: middle;\n",
       "    }\n",
       "\n",
       "    .dataframe tbody tr th {\n",
       "        vertical-align: top;\n",
       "    }\n",
       "\n",
       "    .dataframe thead th {\n",
       "        text-align: right;\n",
       "    }\n",
       "</style>\n",
       "<table border=\"1\" class=\"dataframe\">\n",
       "  <thead>\n",
       "    <tr style=\"text-align: right;\">\n",
       "      <th></th>\n",
       "      <th>gameKey</th>\n",
       "      <th>playID</th>\n",
       "      <th>view</th>\n",
       "      <th>video</th>\n",
       "      <th>frame</th>\n",
       "      <th>labels</th>\n",
       "      <th>impactType</th>\n",
       "      <th>left</th>\n",
       "      <th>top</th>\n",
       "      <th>right</th>\n",
       "      <th>bottom</th>\n",
       "      <th>width</th>\n",
       "      <th>height</th>\n",
       "      <th>image_id</th>\n",
       "      <th>counts</th>\n",
       "      <th>pic_id</th>\n",
       "    </tr>\n",
       "  </thead>\n",
       "  <tbody>\n",
       "    <tr>\n",
       "      <th>0</th>\n",
       "      <td>57586</td>\n",
       "      <td>540</td>\n",
       "      <td>Endzone</td>\n",
       "      <td>57586_000540_Endzone.mp4</td>\n",
       "      <td>232</td>\n",
       "      <td>1</td>\n",
       "      <td>Helmet</td>\n",
       "      <td>611.0</td>\n",
       "      <td>317.0</td>\n",
       "      <td>638.0</td>\n",
       "      <td>342.0</td>\n",
       "      <td>27.0</td>\n",
       "      <td>25.0</td>\n",
       "      <td>57586540232</td>\n",
       "      <td>16</td>\n",
       "      <td>57586540232.png</td>\n",
       "    </tr>\n",
       "    <tr>\n",
       "      <th>1</th>\n",
       "      <td>58094</td>\n",
       "      <td>2819</td>\n",
       "      <td>Endzone</td>\n",
       "      <td>58094_002819_Endzone.mp4</td>\n",
       "      <td>185</td>\n",
       "      <td>1</td>\n",
       "      <td>Helmet</td>\n",
       "      <td>832.0</td>\n",
       "      <td>303.0</td>\n",
       "      <td>851.0</td>\n",
       "      <td>325.0</td>\n",
       "      <td>19.0</td>\n",
       "      <td>22.0</td>\n",
       "      <td>580942819185</td>\n",
       "      <td>17</td>\n",
       "      <td>580942819185.png</td>\n",
       "    </tr>\n",
       "    <tr>\n",
       "      <th>2</th>\n",
       "      <td>57790</td>\n",
       "      <td>2792</td>\n",
       "      <td>Endzone</td>\n",
       "      <td>57790_002792_Endzone.mp4</td>\n",
       "      <td>65</td>\n",
       "      <td>1</td>\n",
       "      <td>Helmet</td>\n",
       "      <td>1125.0</td>\n",
       "      <td>294.0</td>\n",
       "      <td>1150.0</td>\n",
       "      <td>324.0</td>\n",
       "      <td>25.0</td>\n",
       "      <td>30.0</td>\n",
       "      <td>57790279265</td>\n",
       "      <td>20</td>\n",
       "      <td>57790279265.png</td>\n",
       "    </tr>\n",
       "    <tr>\n",
       "      <th>3</th>\n",
       "      <td>58094</td>\n",
       "      <td>423</td>\n",
       "      <td>Endzone</td>\n",
       "      <td>58094_000423_Endzone.mp4</td>\n",
       "      <td>151</td>\n",
       "      <td>1</td>\n",
       "      <td>Helmet</td>\n",
       "      <td>894.0</td>\n",
       "      <td>287.0</td>\n",
       "      <td>916.0</td>\n",
       "      <td>317.0</td>\n",
       "      <td>22.0</td>\n",
       "      <td>30.0</td>\n",
       "      <td>58094423151</td>\n",
       "      <td>20</td>\n",
       "      <td>58094423151.png</td>\n",
       "    </tr>\n",
       "    <tr>\n",
       "      <th>4</th>\n",
       "      <td>57913</td>\n",
       "      <td>218</td>\n",
       "      <td>Sideline</td>\n",
       "      <td>57913_000218_Sideline.mp4</td>\n",
       "      <td>37</td>\n",
       "      <td>1</td>\n",
       "      <td>Helmet</td>\n",
       "      <td>760.0</td>\n",
       "      <td>242.0</td>\n",
       "      <td>772.0</td>\n",
       "      <td>257.0</td>\n",
       "      <td>12.0</td>\n",
       "      <td>15.0</td>\n",
       "      <td>5791321837789</td>\n",
       "      <td>22</td>\n",
       "      <td>5791321837789.png</td>\n",
       "    </tr>\n",
       "  </tbody>\n",
       "</table>\n",
       "</div>"
      ],
      "text/plain": [
       "   gameKey  playID      view                      video  frame  labels  \\\n",
       "0    57586     540   Endzone   57586_000540_Endzone.mp4    232       1   \n",
       "1    58094    2819   Endzone   58094_002819_Endzone.mp4    185       1   \n",
       "2    57790    2792   Endzone   57790_002792_Endzone.mp4     65       1   \n",
       "3    58094     423   Endzone   58094_000423_Endzone.mp4    151       1   \n",
       "4    57913     218  Sideline  57913_000218_Sideline.mp4     37       1   \n",
       "\n",
       "  impactType    left    top   right  bottom  width  height       image_id  \\\n",
       "0     Helmet   611.0  317.0   638.0   342.0   27.0    25.0    57586540232   \n",
       "1     Helmet   832.0  303.0   851.0   325.0   19.0    22.0   580942819185   \n",
       "2     Helmet  1125.0  294.0  1150.0   324.0   25.0    30.0    57790279265   \n",
       "3     Helmet   894.0  287.0   916.0   317.0   22.0    30.0    58094423151   \n",
       "4     Helmet   760.0  242.0   772.0   257.0   12.0    15.0  5791321837789   \n",
       "\n",
       "   counts             pic_id  \n",
       "0      16    57586540232.png  \n",
       "1      17   580942819185.png  \n",
       "2      20    57790279265.png  \n",
       "3      20    58094423151.png  \n",
       "4      22  5791321837789.png  "
      ]
     },
     "execution_count": 64,
     "metadata": {},
     "output_type": "execute_result"
    }
   ],
   "source": [
    "display(bb_df.info())\n",
    "bb_df.head()"
   ]
  },
  {
   "cell_type": "markdown",
   "metadata": {},
   "source": [
    "Overall, there are 1,081 images with 21,843 related bounding box annotations."
   ]
  },
  {
   "cell_type": "markdown",
   "metadata": {
    "id": "v5P-E47hvqrW"
   },
   "source": [
    "# Train/Test Split"
   ]
  },
  {
   "cell_type": "markdown",
   "metadata": {},
   "source": [
    "Here we split the data into train and test sets using the training_images arrays and the unique dataframe, allocating 20% to the test set."
   ]
  },
  {
   "cell_type": "code",
   "execution_count": 65,
   "metadata": {
    "id": "l25bTpmxvqrX"
   },
   "outputs": [],
   "source": [
    "#Train/Test Split\n",
    "X_train, X_test, train_df, test_df = train_test_split(training_images, unique_df, test_size=.20,\n",
    "                                                          random_state=set_seed)"
   ]
  },
  {
   "cell_type": "code",
   "execution_count": 66,
   "metadata": {},
   "outputs": [
    {
     "data": {
      "text/plain": [
       "1081"
      ]
     },
     "execution_count": 66,
     "metadata": {},
     "output_type": "execute_result"
    }
   ],
   "source": [
    "#Preview length of training_images\n",
    "len(training_images)"
   ]
  },
  {
   "cell_type": "code",
   "execution_count": 67,
   "metadata": {
    "scrolled": true
   },
   "outputs": [
    {
     "name": "stdout",
     "output_type": "stream",
     "text": [
      "(864, 720, 1280, 3)\n"
     ]
    },
    {
     "data": {
      "text/plain": [
       "(217, 720, 1280, 3)"
      ]
     },
     "execution_count": 67,
     "metadata": {},
     "output_type": "execute_result"
    }
   ],
   "source": [
    "#Preview shapes of X_train and X_test\n",
    "print(X_train.shape)\n",
    "X_test.shape"
   ]
  },
  {
   "cell_type": "code",
   "execution_count": 68,
   "metadata": {},
   "outputs": [],
   "source": [
    "#Create x_train_id and x_test_id columns to be used later for encoding images\n",
    "train_df['x_train_id'] = np.arange(0, int(X_train.shape[0]))\n",
    "test_df['x_test_id'] = np.arange(0, int(X_test.shape[0]))"
   ]
  },
  {
   "cell_type": "markdown",
   "metadata": {},
   "source": [
    "Below the y_train_df and y_test_df are created as copies of bb_df to include all bounding box annotations. They are then separated by image_id in the split train_df and test_df."
   ]
  },
  {
   "cell_type": "code",
   "execution_count": 69,
   "metadata": {},
   "outputs": [],
   "source": [
    "#Create copies of bb_df for both y_train and y_test\n",
    "y_train_df = bb_df.copy()\n",
    "y_test_df = bb_df.copy()"
   ]
  },
  {
   "cell_type": "code",
   "execution_count": 70,
   "metadata": {},
   "outputs": [
    {
     "data": {
      "application/vnd.jupyter.widget-view+json": {
       "model_id": "66b21a080e814497be4d11da29a1e024",
       "version_major": 2,
       "version_minor": 0
      },
      "text/plain": [
       "HBox(children=(IntProgress(value=0, max=864), HTML(value='')))"
      ]
     },
     "metadata": {},
     "output_type": "display_data"
    },
    {
     "name": "stdout",
     "output_type": "stream",
     "text": [
      "\n"
     ]
    }
   ],
   "source": [
    "#Split y_train_df and y_test_df based on image id\n",
    "for i in test_df['image_id'].values:\n",
    "    y_train_df = y_train_df[y_train_df['image_id'] != i]\n",
    "for i in tqdm.tqdm_notebook(train_df['image_id'].values):\n",
    "    y_test_df = y_test_df[y_test_df['image_id'] != i]"
   ]
  },
  {
   "cell_type": "code",
   "execution_count": 71,
   "metadata": {},
   "outputs": [],
   "source": [
    "#Reset index for each df\n",
    "y_train_df = y_train_df.reset_index(drop=True)\n",
    "y_test_df = y_test_df.reset_index(drop=True)"
   ]
  },
  {
   "cell_type": "markdown",
   "metadata": {},
   "source": [
    "# Preview Bounding Boxes"
   ]
  },
  {
   "cell_type": "markdown",
   "metadata": {},
   "source": [
    "Below we can preview the bounding box annotations on a particular image (using cv2.rectangle)."
   ]
  },
  {
   "cell_type": "code",
   "execution_count": 72,
   "metadata": {},
   "outputs": [
    {
     "name": "stdout",
     "output_type": "stream",
     "text": [
      "mkdir: data/coco/2020/annotations/train: File exists\n",
      "mkdir: data/coco/2020/annotations/test: File exists\n"
     ]
    }
   ],
   "source": [
    "#Make directories for the bounding box annotations and train image\n",
    "!mkdir 'data/coco/2020/annotations/train'\n",
    "!mkdir 'data/coco/2020/annotations/test'"
   ]
  },
  {
   "cell_type": "code",
   "execution_count": 73,
   "metadata": {},
   "outputs": [
    {
     "data": {
      "application/vnd.jupyter.widget-view+json": {
       "model_id": "af90968bd7cc467698f52fedc0b5b544",
       "version_major": 2,
       "version_minor": 0
      },
      "text/plain": [
       "HBox(children=(IntProgress(value=1, bar_style='info', max=1), HTML(value='')))"
      ]
     },
     "metadata": {},
     "output_type": "display_data"
    },
    {
     "name": "stdout",
     "output_type": "stream",
     "text": [
      "\n"
     ]
    }
   ],
   "source": [
    "#Write train image to file\n",
    "for i, j in tqdm.tqdm_notebook(enumerate(X_train[:2])):\n",
    "    Image.fromarray(j).save(\"data/coco/2020/annotations/train/{}\".format(train_df.pic_id.values[i]))"
   ]
  },
  {
   "cell_type": "code",
   "execution_count": 74,
   "metadata": {},
   "outputs": [
    {
     "data": {
      "image/png": "[encoded data removed]",
      "text/plain": [
       "<Figure size 1008x1008 with 1 Axes>"
      ]
     },
     "metadata": {
      "needs_background": "light"
     },
     "output_type": "display_data"
    }
   ],
   "source": [
    "# Set the name of our working image\n",
    "index_no = 0\n",
    "img_df = train_df[train_df['x_train_id'] == index_no]\n",
    "img_name = img_df['pic_id'].values[0]\n",
    "img_path = 'data/coco/2020/annotations/train/' + img_name\n",
    "frame_no = img_df['frame']\n",
    "\n",
    "# Read in and plot the image\n",
    "img = cv2.imread(img_path) \n",
    "\n",
    "#Set annotation color\n",
    "HELMET_COLOR = (0, 0, 0)    # Black\n",
    "\n",
    "# Plot all bounding boxes for matching pic_id and frame_no\n",
    "boxes = y_train_df[y_train_df['pic_id'] == img_df['pic_id'].values[0]]\n",
    "for j, box in boxes.iterrows():\n",
    "    color = HELMET_COLOR\n",
    "    # cv2.rectangle requires specification of the top left pixel and the bottom right pixel\n",
    "    start_point = (int(box.left), int(box.top))\n",
    "    end_point = (int(box.right), int(box.bottom))\n",
    "\n",
    "    # Add a box around the helmet\n",
    "    cv2.rectangle(img, start_point, end_point, color, thickness=2)\n",
    "\n",
    "# Display the image with bounding boxes added\n",
    "plt.figure(figsize=(14, 14))\n",
    "plt.imshow(img)\n",
    "plt.show()"
   ]
  },
  {
   "cell_type": "markdown",
   "metadata": {
    "id": "2YuRyqejvqrY"
   },
   "source": [
    "# Write to JSON"
   ]
  },
  {
   "cell_type": "markdown",
   "metadata": {},
   "source": [
    "This section involves writing annotations to JSON files similar to the COCO (Common Objects in Context) dataset format. These files do not match the COCO format exactly, but some features were kept just to mimic most of the COCO structure (i.e. license, coco_url, date_captured, and flickr_url were not used. Although not necessary, zero was imputed for \"is_crowd\"). More information on COCO is available here: https://cocodataset.org/#detection-2020. A breakdown of all files is below:\n",
    "\n",
    "Images:\n",
    "Image filenames and details of the image (height, width, id)\n",
    "\n",
    "Categories:\n",
    "One category: helmet\n",
    "\n",
    "Objects:\n",
    "Bounding box annotations\n",
    "\n",
    "Annotations:\n",
    "Combining all above JSON files as nested dictionaries"
   ]
  },
  {
   "cell_type": "markdown",
   "metadata": {
    "id": "qKmJbJ0LvqrY"
   },
   "source": [
    "### Training Images"
   ]
  },
  {
   "cell_type": "code",
   "execution_count": 75,
   "metadata": {
    "id": "GKrKzn54vqrY"
   },
   "outputs": [
    {
     "data": {
      "text/plain": [
       "'data/coco/2020/annotations/train/images.json'"
      ]
     },
     "execution_count": 75,
     "metadata": {},
     "output_type": "execute_result"
    }
   ],
   "source": [
    "#Add train image files\n",
    "images = []\n",
    "for i, j in enumerate(train_df.image_id):\n",
    "    images.append({\"file_name\": train_df.pic_id.values[i],\n",
    "                   \"height\": X_train.shape[1],\n",
    "                   \"width\": X_train.shape[2],\n",
    "                   \"x_train_id\": int(train_df.x_train_id.values[i]),\n",
    "                   \"id\": int(train_df.image_id.values[i])})\n",
    "\n",
    "with open('images.json', 'w') as f:\n",
    "    json.dump(images, f)\n",
    "    \n",
    "#Move to proper folder\n",
    "shutil.move(\"images.json\", \"data/coco/2020/annotations/train/images.json\")"
   ]
  },
  {
   "cell_type": "code",
   "execution_count": 76,
   "metadata": {
    "id": "K8aAopDuvqrY",
    "scrolled": true
   },
   "outputs": [
    {
     "data": {
      "text/plain": [
       "{'file_name': '57992301426.png',\n",
       " 'height': 720,\n",
       " 'width': 1280,\n",
       " 'x_train_id': 0,\n",
       " 'id': 57992301426}"
      ]
     },
     "execution_count": 76,
     "metadata": {},
     "output_type": "execute_result"
    }
   ],
   "source": [
    "#Preview train file\n",
    "with open('data/coco/2020/annotations/train/images.json') as f:\n",
    "    train_images = json.load(f)\n",
    "    \n",
    "#Preview train image file\n",
    "train_images[0]"
   ]
  },
  {
   "cell_type": "markdown",
   "metadata": {
    "id": "KdH0dnxfvqrY"
   },
   "source": [
    "### Test Images"
   ]
  },
  {
   "cell_type": "code",
   "execution_count": 77,
   "metadata": {
    "id": "0Pmg2eQavqrZ"
   },
   "outputs": [
    {
     "data": {
      "text/plain": [
       "'data/coco/2020/annotations/test/images.json'"
      ]
     },
     "execution_count": 77,
     "metadata": {},
     "output_type": "execute_result"
    }
   ],
   "source": [
    "#Add test image files\n",
    "images = []\n",
    "for i, j in enumerate(test_df.image_id):\n",
    "    images.append({\"file_name\": test_df.pic_id.values[i],\n",
    "                   \"height\": X_test.shape[1],\n",
    "                   \"width\": X_test.shape[2],\n",
    "                   \"x_test_id\": int(test_df.x_test_id.values[i]),\n",
    "                   \"id\": int(test_df.image_id.values[i])})\n",
    "with open('images.json', 'w') as f:\n",
    "    json.dump(images, f)\n",
    "\n",
    "#Move the file to the proper folder\n",
    "shutil.move(\"images.json\", \"data/coco/2020/annotations/test/images.json\")"
   ]
  },
  {
   "cell_type": "code",
   "execution_count": 78,
   "metadata": {
    "id": "lRi7p1ImvqrZ"
   },
   "outputs": [
    {
     "data": {
      "text/plain": [
       "{'file_name': '577873413129.png',\n",
       " 'height': 720,\n",
       " 'width': 1280,\n",
       " 'x_test_id': 0,\n",
       " 'id': 577873413129}"
      ]
     },
     "execution_count": 78,
     "metadata": {},
     "output_type": "execute_result"
    }
   ],
   "source": [
    "#Preview test file\n",
    "with open('data/coco/2020/annotations/test/images.json') as f:\n",
    "    test_images = json.load(f)\n",
    "\n",
    "#Preview test image file\n",
    "test_images[0]"
   ]
  },
  {
   "cell_type": "markdown",
   "metadata": {
    "id": "qrVr-mRKvqrZ"
   },
   "source": [
    "### Train Categories"
   ]
  },
  {
   "cell_type": "code",
   "execution_count": 79,
   "metadata": {
    "id": "9TUwl35DvqrZ"
   },
   "outputs": [
    {
     "data": {
      "text/plain": [
       "'data/coco/2020/annotations/train/categories.json'"
      ]
     },
     "execution_count": 79,
     "metadata": {},
     "output_type": "execute_result"
    }
   ],
   "source": [
    "#Add train category file with 1 class, helmet\n",
    "categories = []\n",
    "categories.append({\"id\": 0, \"name\": \"helmet\"})\n",
    "    \n",
    "with open('categories.json', 'w') as f:\n",
    "    json.dump(categories, f)\n",
    "    \n",
    "#Move to the proper folder\n",
    "shutil.move(\"categories.json\", \"data/coco/2020/annotations/train/categories.json\")"
   ]
  },
  {
   "cell_type": "code",
   "execution_count": 80,
   "metadata": {
    "id": "_oBeilvavqrZ"
   },
   "outputs": [
    {
     "data": {
      "text/plain": [
       "[{'id': 0, 'name': 'helmet'}]"
      ]
     },
     "execution_count": 80,
     "metadata": {},
     "output_type": "execute_result"
    }
   ],
   "source": [
    "#Preview train file\n",
    "with open('data/coco/2020/annotations/train/categories.json') as f:\n",
    "    train_categories = json.load(f)\n",
    "    \n",
    "#Preview train categories\n",
    "train_categories"
   ]
  },
  {
   "cell_type": "markdown",
   "metadata": {
    "id": "KEsrTVGQvqrZ"
   },
   "source": [
    "### Test Categories"
   ]
  },
  {
   "cell_type": "code",
   "execution_count": 81,
   "metadata": {
    "id": "_OxKBVynvqra"
   },
   "outputs": [
    {
     "data": {
      "text/plain": [
       "'data/coco/2020/annotations/test/categories.json'"
      ]
     },
     "execution_count": 81,
     "metadata": {},
     "output_type": "execute_result"
    }
   ],
   "source": [
    "#Add test category file with 1 class, helmet\n",
    "categories = []\n",
    "categories.append({\"id\": 0, \"name\": \"helmet\"})\n",
    "\n",
    "with open('categories.json', 'w') as f:\n",
    "    json.dump(categories, f)\n",
    "    \n",
    "#Move to proper folder\n",
    "shutil.move(\"categories.json\", \"data/coco/2020/annotations/test/categories.json\")"
   ]
  },
  {
   "cell_type": "code",
   "execution_count": 82,
   "metadata": {
    "id": "bjMLYDHrvqra"
   },
   "outputs": [
    {
     "data": {
      "text/plain": [
       "[{'id': 0, 'name': 'helmet'}]"
      ]
     },
     "execution_count": 82,
     "metadata": {},
     "output_type": "execute_result"
    }
   ],
   "source": [
    "#Preview test file\n",
    "with open('data/coco/2020/annotations/test/categories.json') as f:\n",
    "    test_categories = json.load(f)\n",
    "\n",
    "#Preview test categories\n",
    "test_categories"
   ]
  },
  {
   "cell_type": "markdown",
   "metadata": {
    "id": "fWSnTdtHvqra"
   },
   "source": [
    "### Train Objects"
   ]
  },
  {
   "cell_type": "markdown",
   "metadata": {},
   "source": [
    "The below section is bounding box annotations. The format for bounding boxes for this project is y1, x1, y2, x2 and bounding boxes are normalized by dividing x values by image width and y values by image height. All images are the same size, so the image width and height values used are 1280 and 720. The format for annotations is below:\n",
    "\n",
    "id: The index of annotations\n",
    "<br>\n",
    "category_id: 0 since we are only detecting helmets\n",
    "<br>\n",
    "image_id: The image id (previously created in the train and test dataframes. needs to be unique)\n",
    "<br>\n",
    "objects: The count of objects in the image\n",
    "<br>\n",
    "bbox: The annotation list"
   ]
  },
  {
   "cell_type": "code",
   "execution_count": 83,
   "metadata": {},
   "outputs": [],
   "source": [
    "#Normalize bounding boxes\n",
    "y_train_df[['left_norm', 'right_norm']] = y_train_df[['left', 'right']] / X_train.shape[2]\n",
    "y_train_df[['top_norm', 'bottom_norm']] = y_train_df[['top', 'bottom']] / X_train.shape[1]"
   ]
  },
  {
   "cell_type": "code",
   "execution_count": 84,
   "metadata": {
    "id": "LxmeGhD3vqra"
   },
   "outputs": [
    {
     "data": {
      "text/plain": [
       "numpy.float64"
      ]
     },
     "execution_count": 84,
     "metadata": {},
     "output_type": "execute_result"
    }
   ],
   "source": [
    "#Convert to list to be added to JSON file format\n",
    "annotation = y_train_df[['labels', 'top_norm', 'left_norm', 'bottom_norm', 'right_norm']].values\n",
    "annotation = [list(i) for i in annotation]\n",
    "type(annotation[0][0])"
   ]
  },
  {
   "cell_type": "code",
   "execution_count": 85,
   "metadata": {},
   "outputs": [
    {
     "data": {
      "text/plain": [
       "'data/coco/2020/annotations/train/objects.json'"
      ]
     },
     "execution_count": 85,
     "metadata": {},
     "output_type": "execute_result"
    }
   ],
   "source": [
    "#Add annotations to train objects file\n",
    "objects = []\n",
    "\n",
    "for i, j in enumerate(annotation):\n",
    "    objects.append({\"id\": int(i), \n",
    "                    \"category_id\": int(0),\n",
    "                    \"iscrowd\": int(0), \n",
    "                    \"image_id\": int(y_train_df.image_id.values[i]),\n",
    "                    \"objects\": int(y_train_df.counts.values[i]), \n",
    "                    \"bbox\": j[1:]})\n",
    "        \n",
    "with open('objects.json', 'w') as f:\n",
    "    json.dump(objects, f)\n",
    "shutil.move(\"objects.json\", \"data/coco/2020/annotations/train/objects.json\")"
   ]
  },
  {
   "cell_type": "code",
   "execution_count": 86,
   "metadata": {
    "id": "UQ10XCYGvqra"
   },
   "outputs": [
    {
     "data": {
      "text/plain": [
       "{'id': 0,\n",
       " 'category_id': 0,\n",
       " 'iscrowd': 0,\n",
       " 'image_id': 580942819185,\n",
       " 'objects': 17,\n",
       " 'bbox': [0.42083333333333334, 0.65, 0.4513888888888889, 0.66484375]}"
      ]
     },
     "execution_count": 86,
     "metadata": {},
     "output_type": "execute_result"
    }
   ],
   "source": [
    "#Preview train objects file\n",
    "with open('data/coco/2020/annotations/train/objects.json') as f:\n",
    "    train_annotations = json.load(f)\n",
    "train_annotations[0]"
   ]
  },
  {
   "cell_type": "markdown",
   "metadata": {
    "id": "c-bPeEgJvqrb"
   },
   "source": [
    "### Test Objects"
   ]
  },
  {
   "cell_type": "code",
   "execution_count": 87,
   "metadata": {},
   "outputs": [],
   "source": [
    "#Normalize bounding boxes\n",
    "y_test_df[['left_norm', 'right_norm']] = y_test_df[['left', 'right']] / X_train.shape[2]\n",
    "y_test_df[['top_norm', 'bottom_norm']] = y_test_df[['top', 'bottom']] / X_train.shape[1]"
   ]
  },
  {
   "cell_type": "code",
   "execution_count": 88,
   "metadata": {
    "id": "MMrxUUBRvqrb"
   },
   "outputs": [],
   "source": [
    "#Convert to list to be added to JSON file format\n",
    "annotation = y_test_df[['labels', 'top_norm', 'left_norm', 'bottom_norm', 'right_norm']].values\n",
    "annotation = [list(i) for i in annotation]"
   ]
  },
  {
   "cell_type": "code",
   "execution_count": 89,
   "metadata": {},
   "outputs": [
    {
     "data": {
      "text/plain": [
       "'data/coco/2020/annotations/test/objects.json'"
      ]
     },
     "execution_count": 89,
     "metadata": {},
     "output_type": "execute_result"
    }
   ],
   "source": [
    "#Add annotations to test objects file\n",
    "objects = []\n",
    "\n",
    "for i, j in enumerate(annotation):\n",
    "    objects.append({\"id\": int(i), \n",
    "                    \"category_id\": int(0), \n",
    "                    \"iscrowd\": int(0), \n",
    "                    \"image_id\": int(y_test_df.image_id.values[i]),\n",
    "                    \"objects\": int(y_test_df.counts.values[i]),\n",
    "                    \"bbox\": j[1:]})\n",
    "        \n",
    "with open('objects.json', 'w') as f:\n",
    "    json.dump(objects, f)\n",
    "shutil.move(\"objects.json\", \"data/coco/2020/annotations/test/objects.json\")"
   ]
  },
  {
   "cell_type": "code",
   "execution_count": 90,
   "metadata": {
    "id": "z9dl5Mw_vqrb",
    "scrolled": true
   },
   "outputs": [
    {
     "data": {
      "text/plain": [
       "{'id': 0,\n",
       " 'category_id': 0,\n",
       " 'iscrowd': 0,\n",
       " 'image_id': 57586540232,\n",
       " 'objects': 16,\n",
       " 'bbox': [0.44027777777777777, 0.47734375, 0.475, 0.4984375]}"
      ]
     },
     "execution_count": 90,
     "metadata": {},
     "output_type": "execute_result"
    }
   ],
   "source": [
    "#Preview test objects file\n",
    "with open('data/coco/2020/annotations/test/objects.json') as f:\n",
    "    test_annotations = json.load(f)\n",
    "test_annotations[0]"
   ]
  },
  {
   "cell_type": "markdown",
   "metadata": {
    "id": "k6j3yluvvqrb"
   },
   "source": [
    "### Train Annotations"
   ]
  },
  {
   "cell_type": "markdown",
   "metadata": {},
   "source": [
    "Here we combine all files to one annotation file for training and one annotation file for testing."
   ]
  },
  {
   "cell_type": "code",
   "execution_count": 91,
   "metadata": {
    "id": "2dQK6Zaovqrc"
   },
   "outputs": [
    {
     "data": {
      "text/plain": [
       "'data/coco/2020/annotations/train/annotations.json'"
      ]
     },
     "execution_count": 91,
     "metadata": {},
     "output_type": "execute_result"
    }
   ],
   "source": [
    "#Combine files as dictionary and write to JSON\n",
    "annotations = {\"images\": train_images, \"annotations\": train_annotations, \"categories\": train_categories}\n",
    "\n",
    "with open('annotations.json', 'w') as f:\n",
    "    json.dump(annotations, f)\n",
    "shutil.move(\"annotations.json\", \"data/coco/2020/annotations/train/annotations.json\")"
   ]
  },
  {
   "cell_type": "code",
   "execution_count": 92,
   "metadata": {
    "id": "uRvQYNUbvqrc"
   },
   "outputs": [
    {
     "name": "stdout",
     "output_type": "stream",
     "text": [
      "Image sample:\n",
      "{'file_name': '57992301426.png', 'height': 720, 'width': 1280, 'x_train_id': 0, 'id': 57992301426}\n",
      "\n",
      " Annotations sample:\n",
      "{'id': 0, 'category_id': 0, 'iscrowd': 0, 'image_id': 580942819185, 'objects': 17, 'bbox': [0.42083333333333334, 0.65, 0.4513888888888889, 0.66484375]}\n",
      "\n",
      " Categories sample:\n",
      "{'id': 0, 'name': 'helmet'}\n"
     ]
    }
   ],
   "source": [
    "#Preview train annotations\n",
    "with open('data/coco/2020/annotations/train/annotations.json') as f:\n",
    "    train_annotations = json.load(f)\n",
    "print(\"Image sample:\")\n",
    "print(train_annotations['images'][0])\n",
    "print(\"\\n Annotations sample:\")\n",
    "print(train_annotations['annotations'][0])\n",
    "print(\"\\n Categories sample:\")\n",
    "print(train_annotations['categories'][0])"
   ]
  },
  {
   "cell_type": "markdown",
   "metadata": {
    "id": "fR7FDcU9vqrc"
   },
   "source": [
    "### Test Annotations"
   ]
  },
  {
   "cell_type": "code",
   "execution_count": 93,
   "metadata": {
    "id": "Q34O-N87vqrc"
   },
   "outputs": [
    {
     "data": {
      "text/plain": [
       "'data/coco/2020/annotations/test/annotations.json'"
      ]
     },
     "execution_count": 93,
     "metadata": {},
     "output_type": "execute_result"
    }
   ],
   "source": [
    "#Combine files as dictionary and write to JSON\n",
    "annotations = {\"images\": test_images, \"annotations\": test_annotations, \"categories\": test_categories}\n",
    "\n",
    "with open('annotations.json', 'w') as f:\n",
    "    json.dump(annotations, f)\n",
    "shutil.move(\"annotations.json\", \"data/coco/2020/annotations/test/annotations.json\")"
   ]
  },
  {
   "cell_type": "code",
   "execution_count": 94,
   "metadata": {
    "id": "PAW1Nq05vqrd"
   },
   "outputs": [
    {
     "name": "stdout",
     "output_type": "stream",
     "text": [
      "Image sample:\n",
      "{'file_name': '577873413129.png', 'height': 720, 'width': 1280, 'x_test_id': 0, 'id': 577873413129}\n",
      "\n",
      " Annotations sample:\n",
      "{'id': 0, 'category_id': 0, 'iscrowd': 0, 'image_id': 57586540232, 'objects': 16, 'bbox': [0.44027777777777777, 0.47734375, 0.475, 0.4984375]}\n",
      "\n",
      " Categories sample:\n",
      "{'id': 0, 'name': 'helmet'}\n"
     ]
    }
   ],
   "source": [
    "#Preview test annotations\n",
    "with open('data/coco/2020/annotations/test/annotations.json') as f:\n",
    "    test_annotations = json.load(f)\n",
    "print(\"Image sample:\")\n",
    "print(test_annotations['images'][0])\n",
    "print(\"\\n Annotations sample:\")\n",
    "print(test_annotations['annotations'][0])\n",
    "print(\"\\n Categories sample:\")\n",
    "print(test_annotations['categories'][0])"
   ]
  },
  {
   "cell_type": "markdown",
   "metadata": {},
   "source": [
    "# Using the pycocotools API for Annotations"
   ]
  },
  {
   "cell_type": "markdown",
   "metadata": {},
   "source": [
    "The [pycocotools API](https://github.com/cocodataset/cocoapi) is used to assist in parsing, loading, and visualizing annotations in the COCO format."
   ]
  },
  {
   "cell_type": "code",
   "execution_count": 95,
   "metadata": {
    "id": "MPj7rTq0vqre"
   },
   "outputs": [
    {
     "name": "stdout",
     "output_type": "stream",
     "text": [
      "loading annotations into memory...\n",
      "Done (t=0.05s)\n",
      "creating index...\n",
      "index created!\n"
     ]
    }
   ],
   "source": [
    "#Load train annotations file for parsing, loading, visualizing\n",
    "train_annotations_file = 'data/coco/2020/annotations/train/annotations.json'\n",
    "\n",
    "train_coco=COCO(train_annotations_file)"
   ]
  },
  {
   "cell_type": "code",
   "execution_count": 96,
   "metadata": {
    "id": "V0gFLiFLvqre"
   },
   "outputs": [
    {
     "name": "stdout",
     "output_type": "stream",
     "text": [
      "loading annotations into memory...\n",
      "Done (t=0.01s)\n",
      "creating index...\n",
      "index created!\n"
     ]
    }
   ],
   "source": [
    "#Load test annotations file for parsing, loading, visualizing\n",
    "test_annotations_file = 'data/coco/2020/annotations/test/annotations.json'\n",
    "\n",
    "test_coco=COCO(test_annotations_file)"
   ]
  },
  {
   "cell_type": "code",
   "execution_count": 97,
   "metadata": {
    "id": "xf7lJeBcvqre",
    "scrolled": true
   },
   "outputs": [
    {
     "name": "stdout",
     "output_type": "stream",
     "text": [
      "Total images: 864\n",
      "Image example:\n",
      "{'file_name': '58000130653789.png', 'height': 720, 'width': 1280, 'x_train_id': 510, 'id': 58000130653789}\n",
      "\n",
      "Total annotations: 17451\n",
      "Annotation example:\n",
      "{'id': 511, 'category_id': 0, 'iscrowd': 0, 'image_id': 58000130653789, 'objects': 22, 'bbox': [0.6597222222222222, 0.3609375, 0.6777777777777778, 0.3703125]}\n"
     ]
    }
   ],
   "source": [
    "#Preview total images\n",
    "train_imgIds = train_coco.getImgIds()\n",
    "print(\"Total images: {}\".format(len(train_imgIds)))\n",
    "\n",
    "#Select a random image\n",
    "rand = np.random.randint(0,len(train_imgIds))\n",
    "train_img = train_coco.loadImgs(train_imgIds[rand])[0]\n",
    "\n",
    "#Preview example image\n",
    "print(\"Image example:\")\n",
    "print(train_img)\n",
    "\n",
    "#Preview total annotations\n",
    "train_annIds = train_coco.getAnnIds()\n",
    "print(\"\\nTotal annotations: {}\".format(len(train_annIds)))\n",
    "\n",
    "#Preview example annotation\n",
    "train_ann=train_coco.loadAnns(train_coco.getAnnIds(imgIds=train_img['id']))\n",
    "print(\"Annotation example:\")\n",
    "print(train_ann[0])"
   ]
  },
  {
   "cell_type": "code",
   "execution_count": 98,
   "metadata": {
    "id": "Ko3PXjlxvqre"
   },
   "outputs": [
    {
     "name": "stdout",
     "output_type": "stream",
     "text": [
      "Total images: 217\n",
      "Image example:\n",
      "{'file_name': '57992301338.png', 'height': 720, 'width': 1280, 'x_test_id': 109, 'id': 57992301338}\n",
      "\n",
      "Total annotations: 4392\n",
      "Annotation example:\n",
      "{'id': 931, 'category_id': 0, 'iscrowd': 0, 'image_id': 57992301338, 'objects': 17, 'bbox': [0.3236111111111111, 0.709375, 0.3958333333333333, 0.73828125]}\n"
     ]
    }
   ],
   "source": [
    "#Testing set details\n",
    "test_imgIds = test_coco.getImgIds()\n",
    "print(\"Total images: {}\".format(len(test_imgIds)))\n",
    "\n",
    "#Select a random image\n",
    "rand=np.random.randint(0,len(test_imgIds))\n",
    "test_img = test_coco.loadImgs(test_imgIds[rand])[0]\n",
    "\n",
    "#Preview example image\n",
    "print(\"Image example:\")\n",
    "print(test_img)\n",
    "\n",
    "#Preview total annotations\n",
    "test_annIds=test_coco.getAnnIds()\n",
    "print(\"\\nTotal annotations: {}\".format(len(test_annIds)))\n",
    "\n",
    "#Preview example annotation\n",
    "test_ann=test_coco.loadAnns(test_coco.getAnnIds(imgIds=test_img['id']))\n",
    "print(\"Annotation example:\")\n",
    "print(test_ann[0])"
   ]
  },
  {
   "cell_type": "code",
   "execution_count": 99,
   "metadata": {
    "id": "IXfudKm_vqre"
   },
   "outputs": [
    {
     "name": "stdout",
     "output_type": "stream",
     "text": [
      "Number of categories: 1\n",
      "\n",
      "COCO categories: \n",
      "helmet\n",
      "\n"
     ]
    }
   ],
   "source": [
    "#Preview train categories\n",
    "cats = train_coco.loadCats(train_coco.getCatIds())\n",
    "print(\"Number of categories: {}\".format(len(cats)))\n",
    "\n",
    "nms = [cat['name'] for cat in cats]\n",
    "print('\\nCOCO categories: \\n{}\\n'.format(' '.join(nms)))"
   ]
  },
  {
   "cell_type": "code",
   "execution_count": 100,
   "metadata": {
    "id": "J4m3IMA6vqre",
    "scrolled": true
   },
   "outputs": [
    {
     "name": "stdout",
     "output_type": "stream",
     "text": [
      "Number of categories: 1\n",
      "\n",
      "COCO categories: \n",
      "helmet\n",
      "\n"
     ]
    }
   ],
   "source": [
    "#Preview test categories\n",
    "cats = test_coco.loadCats(test_coco.getCatIds())\n",
    "print(\"Number of categories: {}\".format(len(cats)))\n",
    "\n",
    "nms = [cat['name'] for cat in cats]\n",
    "print('\\nCOCO categories: \\n{}\\n'.format(' '.join(nms)))"
   ]
  },
  {
   "cell_type": "markdown",
   "metadata": {
    "id": "rVvAMyxhvqrf"
   },
   "source": [
    "# Create TFRecords (tensorflow)\n",
    "\n",
    "Referencing this public Kaggle notebook, https://www.kaggle.com/karthikeyanvijayan/coco-object-detection-dataset-in-tfrecord, below we create a directory for train and test tensorflow records, specify the record path, and then convert files to tfrecords in order to properly utilize the keras implementation of RetinaNet for object detection.\n",
    "\n",
    "A tensorflow dataset is an object type that is an easy-to-use and high-performance input pipeline for our model."
   ]
  },
  {
   "cell_type": "code",
   "execution_count": 101,
   "metadata": {
    "id": "Yz7iE_Tdvqrf"
   },
   "outputs": [
    {
     "name": "stdout",
     "output_type": "stream",
     "text": [
      "mkdir: data/coco/2020/train_tfrecords: File exists\n",
      "mkdir: data/coco/2020/test_tfrecords/: File exists\n"
     ]
    }
   ],
   "source": [
    "#Create tfrecord output directories\n",
    "!mkdir 'data/coco/2020/train_tfrecords'\n",
    "!mkdir 'data/coco/2020/test_tfrecords/'\n",
    "train_records_path='data/coco/2020/train_tfrecords/'\n",
    "test_records_path='data/coco/2020/test_tfrecords/'"
   ]
  },
  {
   "cell_type": "code",
   "execution_count": 102,
   "metadata": {
    "id": "-MfQVz4fvqrf"
   },
   "outputs": [],
   "source": [
    "#Returns all the annotation data for a given image id\n",
    "def get_annotations(coco, imgId):\n",
    "    \"Return all annotation data for a given tfrecord and image id using the pycocotools API.\"\n",
    "    annIds=coco.getAnnIds(imgIds=imgId)\n",
    "    anns=coco.loadAnns(annIds)\n",
    "    bboxes=[]\n",
    "    catIds=[]\n",
    "    iscrowd_list=[]\n",
    "    annotation_ids=[]\n",
    "    for ann in anns:\n",
    "        try:\n",
    "            catId=ann['category_id']\n",
    "            bbox=ann['bbox']\n",
    "            iscrowd=ann['iscrowd']\n",
    "            annotation_id=ann['id']\n",
    "        except:\n",
    "            continue\n",
    "        if((not None in bbox) and (None!=catId)):\n",
    "            catIds.append(catId)\n",
    "            bboxes.append(bbox)\n",
    "            iscrowd_list.append(iscrowd)\n",
    "            annotation_ids.append(annotation_id)\n",
    "    return len(anns),catIds,sum(bboxes,[]),iscrowd_list,annotation_ids"
   ]
  },
  {
   "cell_type": "markdown",
   "metadata": {},
   "source": [
    "Here one tf record is written for training and one for testing."
   ]
  },
  {
   "cell_type": "code",
   "execution_count": 104,
   "metadata": {
    "id": "eVqJUe0nvqrf"
   },
   "outputs": [
    {
     "data": {
      "application/vnd.jupyter.widget-view+json": {
       "model_id": "d790f621fb1a4b4691e95f177d8a13b5",
       "version_major": 2,
       "version_minor": 0
      },
      "text/plain": [
       "HBox(children=(IntProgress(value=0, max=864), HTML(value='')))"
      ]
     },
     "metadata": {},
     "output_type": "display_data"
    },
    {
     "name": "stdout",
     "output_type": "stream",
     "text": [
      "\n",
      "file 0 created\n"
     ]
    }
   ],
   "source": [
    "img_dir = 'data/coco/2020/annotations/train/'\n",
    "n=len(train_imgIds)\n",
    "imgids=train_imgIds[0:n]\n",
    "for i in imgids:\n",
    "    img=train_coco.loadImgs(i)\n",
    "\n",
    "#Only creating 1 file with filename of \"0\"\n",
    "for i in range(0,1):\n",
    "    examples=[]\n",
    "    imgids=train_imgIds\n",
    "    \n",
    "    for img in tqdm.tqdm_notebook(train_coco.loadImgs(imgids)):\n",
    "        image_string = cv2.imencode('.jpeg', X_train[img['x_train_id']])[1].tobytes()\n",
    "\n",
    "        objects,catIds,bboxes,iscrowd,annotation_ids=get_annotations(coco=train_coco, imgId=img['id'])\n",
    "\n",
    "        # Create a Features message using tf.train.Example.\n",
    "        example = tf.train.Example(features=tf.train.Features(feature={\n",
    "            'image': tf.train.Feature(bytes_list=tf.train.BytesList(value=[image_string])),\n",
    "            'height': tf.train.Feature(int64_list=tf.train.Int64List(value=[img['height']])),\n",
    "            'width': tf.train.Feature(int64_list=tf.train.Int64List(value=[img['width']])),\n",
    "            'id': tf.train.Feature(int64_list=tf.train.Int64List(value=[img['id']])),\n",
    "            'file_name': tf.train.Feature(bytes_list=tf.train.BytesList(value=[tf.compat.as_bytes(img['file_name'])])),\n",
    "            #objects-Number of objects in the image\n",
    "            'objects': tf.train.Feature(int64_list=tf.train.Int64List(value=[objects])),\n",
    "            #Follwing features hold all the annotations data given for the image\n",
    "            #category_ids-List of aannotation category ids\n",
    "            'category_ids': tf.train.Feature(int64_list=tf.train.Int64List(value=catIds)),\n",
    "            #bboxes flattened into 1D list\n",
    "            'bboxes': tf.train.Feature(float_list=tf.train.FloatList(value=bboxes)),\n",
    "            #List of iscrowd values\n",
    "            'iscrowd': tf.train.Feature(int64_list=tf.train.Int64List(value=iscrowd)),\n",
    "#             #List of area values\n",
    "#             'area': tf.train.Feature(float_list=tf.train.FloatList(value=area)),\n",
    "            #List of annotation ids \n",
    "            'annotation_ids': tf.train.Feature(int64_list=tf.train.Int64List(value=annotation_ids)),\n",
    "        }))\n",
    "        examples.append(example)\n",
    "    \n",
    "    with tf.io.TFRecordWriter(train_records_path+'coco'+str(i)+'.tfrecord') as writer:\n",
    "        for j in examples:\n",
    "            writer.write(j.SerializeToString())\n",
    "    examples.clear()\n",
    "    print(\"file {} created\".format(i))"
   ]
  },
  {
   "cell_type": "markdown",
   "metadata": {},
   "source": [
    "The below function parses tensorflow records into a dictionary and is a necessary step prior to training the model."
   ]
  },
  {
   "cell_type": "code",
   "execution_count": 105,
   "metadata": {
    "id": "90oTgr4nvqrg"
   },
   "outputs": [],
   "source": [
    "def parse(tfrecord):\n",
    "    \"Parse the features of a tensorflow record into a dictionary.\"\n",
    "    \n",
    "    features={\n",
    "    'image': tf.io.FixedLenFeature([], tf.string),\n",
    "    'height': tf.io.FixedLenFeature([], tf.int64),\n",
    "    'width': tf.io.FixedLenFeature([], tf.int64),\n",
    "    'id': tf.io.FixedLenFeature([], tf.int64),\n",
    "    'file_name': tf.io.FixedLenFeature([], tf.string),\n",
    "    'objects': tf.io.FixedLenFeature([], tf.int64),\n",
    "    'category_ids': tf.io.VarLenFeature(tf.int64),\n",
    "    'bboxes': tf.io.VarLenFeature(tf.float32),\n",
    "    'iscrowd': tf.io.VarLenFeature(tf.int64),\n",
    "    'annotation_ids': tf.io.VarLenFeature(tf.int64)\n",
    "    }\n",
    "    \n",
    "    sample = tf.io.parse_example(tfrecord, features)\n",
    "    image = tf.image.decode_png(sample['image'], channels=3)\n",
    "    file_name = sample['file_name']\n",
    "    objects = sample['objects']\n",
    "    bboxes = sample['bboxes']\n",
    "    bboxes = tf.sparse.to_dense(bboxes)\n",
    "    bboxes = tf.reshape(bboxes, [objects, 4])\n",
    "    annotation_ids = sample['annotation_ids']\n",
    "    iscrowd = sample['iscrowd']\n",
    "    iscrowd = tf.sparse.to_dense(iscrowd)\n",
    "    category_ids = sample['category_ids']\n",
    "    category_ids = tf.sparse.to_dense(category_ids)\n",
    "    \n",
    "    image_dict = {\"image\": image, \n",
    "                  \"image/filename\": file_name, \n",
    "                  \"objects\": {\"bbox\": bboxes, \"id\": annotation_ids, \"iscrowd\": iscrowd, \"label\": category_ids}\n",
    "                 }\n",
    "    \n",
    "    return image_dict"
   ]
  },
  {
   "cell_type": "code",
   "execution_count": 106,
   "metadata": {
    "id": "OlDnBUobvqrg",
    "scrolled": true
   },
   "outputs": [],
   "source": [
    "#Load the tensorflow record as train_dataset\n",
    "train_dataset = tf.data.TFRecordDataset(tf.io.gfile.glob(train_records_path+'*.tfrecord'))"
   ]
  },
  {
   "cell_type": "code",
   "execution_count": 107,
   "metadata": {},
   "outputs": [],
   "source": [
    "#Parse the dataset\n",
    "train_dataset = train_dataset.map(parse)"
   ]
  },
  {
   "cell_type": "code",
   "execution_count": 108,
   "metadata": {
    "scrolled": true
   },
   "outputs": [
    {
     "name": "stdout",
     "output_type": "stream",
     "text": [
      "{'image': <tf.Tensor: shape=(720, 1280, 3), dtype=uint8, numpy=\n",
      "array([[[ 42,  72,  20],\n",
      "        [ 78, 108,  56],\n",
      "        [ 81, 111,  59],\n",
      "        ...,\n",
      "        [ 79, 105,  58],\n",
      "        [ 81, 107,  60],\n",
      "        [ 37,  63,  16]],\n",
      "\n",
      "       [[ 44,  74,  22],\n",
      "        [ 81, 111,  59],\n",
      "        [ 85, 115,  63],\n",
      "        ...,\n",
      "        [ 79, 105,  58],\n",
      "        [ 82, 108,  61],\n",
      "        [ 37,  63,  16]],\n",
      "\n",
      "       [[ 41,  71,  19],\n",
      "        [ 78, 108,  56],\n",
      "        [ 84, 114,  60],\n",
      "        ...,\n",
      "        [ 81, 107,  60],\n",
      "        [ 84, 110,  63],\n",
      "        [ 39,  65,  18]],\n",
      "\n",
      "       ...,\n",
      "\n",
      "       [[ 66,  23,  16],\n",
      "        [ 71,  28,  19],\n",
      "        [ 90,  46,  37],\n",
      "        ...,\n",
      "        [137,  81,  58],\n",
      "        [123,  67,  44],\n",
      "        [ 88,  34,  10]],\n",
      "\n",
      "       [[ 66,  23,  16],\n",
      "        [ 71,  28,  19],\n",
      "        [ 91,  47,  38],\n",
      "        ...,\n",
      "        [137,  81,  56],\n",
      "        [122,  66,  43],\n",
      "        [ 87,  33,   9]],\n",
      "\n",
      "       [[ 66,  23,  16],\n",
      "        [ 71,  28,  19],\n",
      "        [ 92,  48,  39],\n",
      "        ...,\n",
      "        [137,  81,  56],\n",
      "        [122,  66,  43],\n",
      "        [ 87,  33,   9]]], dtype=uint8)>, 'image/filename': <tf.Tensor: shape=(), dtype=string, numpy=b'57992301426.png'>, 'objects': {'bbox': <tf.Tensor: shape=(15, 4), dtype=float32, numpy=\n",
      "array([[0.05138889, 0.5054687 , 0.11805555, 0.53984374],\n",
      "       [0.48472223, 0.50703126, 0.5222222 , 0.521875  ],\n",
      "       [0.50416666, 0.36171874, 0.55833334, 0.3953125 ],\n",
      "       [0.45694444, 0.5140625 , 0.5222222 , 0.54765624],\n",
      "       [0.45      , 0.37734374, 0.5138889 , 0.4140625 ],\n",
      "       [0.07222223, 0.0546875 , 0.14027777, 0.08203125],\n",
      "       [0.48333332, 0.58125   , 0.5388889 , 0.6109375 ],\n",
      "       [0.3402778 , 0.33984375, 0.40416667, 0.37421876],\n",
      "       [0.5847222 , 0.046875  , 0.64166665, 0.08046875],\n",
      "       [0.10694444, 0.3       , 0.16666667, 0.33515626],\n",
      "       [0.44027779, 0.44765624, 0.5013889 , 0.48359376],\n",
      "       [0.5888889 , 0.7703125 , 0.6458333 , 0.8046875 ],\n",
      "       [0.84444445, 0.04375   , 0.9125    , 0.08046875],\n",
      "       [0.21527778, 0.2921875 , 0.2777778 , 0.32734376],\n",
      "       [0.3236111 , 0.15390626, 0.3875    , 0.1921875 ]], dtype=float32)>, 'id': <tensorflow.python.framework.sparse_tensor.SparseTensor object at 0x7fa29ec0e550>, 'iscrowd': <tf.Tensor: shape=(15,), dtype=int64, numpy=array([0, 0, 0, 0, 0, 0, 0, 0, 0, 0, 0, 0, 0, 0, 0])>, 'label': <tf.Tensor: shape=(15,), dtype=int64, numpy=array([0, 0, 0, 0, 0, 0, 0, 0, 0, 0, 0, 0, 0, 0, 0])>}}\n"
     ]
    }
   ],
   "source": [
    "#Preview a row in the dataset\n",
    "for i in train_dataset.take(1):\n",
    "    print(i)"
   ]
  },
  {
   "cell_type": "markdown",
   "metadata": {},
   "source": [
    "Repeating the same process for the test dataset below."
   ]
  },
  {
   "cell_type": "code",
   "execution_count": 109,
   "metadata": {
    "id": "ml6O-eLLvqrg"
   },
   "outputs": [
    {
     "data": {
      "application/vnd.jupyter.widget-view+json": {
       "model_id": "a63a36634b7e440db9be93959f0a3d49",
       "version_major": 2,
       "version_minor": 0
      },
      "text/plain": [
       "HBox(children=(IntProgress(value=0, max=217), HTML(value='')))"
      ]
     },
     "metadata": {},
     "output_type": "display_data"
    },
    {
     "name": "stdout",
     "output_type": "stream",
     "text": [
      "\n",
      "file 1 created\n"
     ]
    }
   ],
   "source": [
    "#Size of each TFRecord file will be 100MB for improving performance\n",
    "img_dir = 'data/coco/2020/annotations/test/'\n",
    "n=len(test_imgIds)\n",
    "imgids=test_imgIds[0:n]\n",
    "size=0\n",
    "for i in imgids:\n",
    "    img=test_coco.loadImgs(i)\n",
    "#     fn=img[0]['file_name']\n",
    "#     size+=os.path.getsize(img_dir+fn)\n",
    "# avg_size=size/n\n",
    "# limit=int(104857600//avg_size)\n",
    "# total_tfrecords=int(len(test_imgIds)//limit)\n",
    "# print(\"{} TFRecord files will be created\".format(total_tfrecords))\n",
    "\n",
    "# for i in range(0,total_tfrecords):\n",
    "for i in range(1, 2):\n",
    "#     examples=[]\n",
    "#     start=i*limit\n",
    "#     end=start+limit\n",
    "#     imgids=test_imgIds[start:end]\n",
    "    imgids=test_imgIds\n",
    "    \n",
    "    for img in tqdm.tqdm_notebook(test_coco.loadImgs(imgids)):\n",
    "        image_string = cv2.imencode('.jpeg', X_test[img['x_test_id']])[1].tobytes()\n",
    "\n",
    "        objects,catIds,bboxes,iscrowd,annotation_ids=get_annotations(coco=test_coco, imgId=img['id'])\n",
    "\n",
    "        # Create a Features message using tf.train.Example.\n",
    "        example = tf.train.Example(features=tf.train.Features(feature={\n",
    "            'image': tf.train.Feature(bytes_list=tf.train.BytesList(value=[image_string])),\n",
    "            'height': tf.train.Feature(int64_list=tf.train.Int64List(value=[img['height']])),\n",
    "            'width': tf.train.Feature(int64_list=tf.train.Int64List(value=[img['width']])),\n",
    "            'id': tf.train.Feature(int64_list=tf.train.Int64List(value=[img['id']])),\n",
    "            'file_name': tf.train.Feature(bytes_list=tf.train.BytesList(value=[tf.compat.as_bytes(img['file_name'])])),\n",
    "            #objects-Number of objects in the image\n",
    "            'objects': tf.train.Feature(int64_list=tf.train.Int64List(value=[objects])),\n",
    "            #Follwing features hold all the annotations data given for the image\n",
    "            #category_ids-List of aannotation category ids\n",
    "            'category_ids': tf.train.Feature(int64_list=tf.train.Int64List(value=catIds)),\n",
    "            #bboxes flattened into 1D list\n",
    "            'bboxes': tf.train.Feature(float_list=tf.train.FloatList(value=bboxes)),\n",
    "            #List of iscrowd values\n",
    "            'iscrowd': tf.train.Feature(int64_list=tf.train.Int64List(value=iscrowd)),\n",
    "            #List of annotation ids \n",
    "            'annotation_ids': tf.train.Feature(int64_list=tf.train.Int64List(value=annotation_ids)),\n",
    "        }))\n",
    "        examples.append(example)\n",
    "    \n",
    "    with tf.io.TFRecordWriter(test_records_path+'coco'+str(i)+'.tfrecord') as writer:\n",
    "        for j in examples:\n",
    "            writer.write(j.SerializeToString())\n",
    "    examples.clear()\n",
    "    print(\"file {} created\".format(i))"
   ]
  },
  {
   "cell_type": "code",
   "execution_count": 110,
   "metadata": {
    "id": "scWFKDu_vqsz",
    "scrolled": true
   },
   "outputs": [],
   "source": [
    "#Load the tensorflow record as test_dataset\n",
    "test_dataset = tf.data.TFRecordDataset(tf.io.gfile.glob(test_records_path+'*.tfrecord'))"
   ]
  },
  {
   "cell_type": "code",
   "execution_count": 111,
   "metadata": {},
   "outputs": [],
   "source": [
    "#Parse the test_dataset\n",
    "test_dataset = test_dataset.map(parse)"
   ]
  },
  {
   "cell_type": "code",
   "execution_count": 112,
   "metadata": {},
   "outputs": [
    {
     "name": "stdout",
     "output_type": "stream",
     "text": [
      "{'image': <tf.Tensor: shape=(720, 1280, 3), dtype=uint8, numpy=\n",
      "array([[[ 37,  60,   8],\n",
      "        [ 86, 109,  57],\n",
      "        [ 85, 108,  54],\n",
      "        ...,\n",
      "        [ 78,  79,  61],\n",
      "        [ 62,  63,  45],\n",
      "        [ 40,  41,  23]],\n",
      "\n",
      "       [[ 37,  60,   8],\n",
      "        [ 82, 105,  53],\n",
      "        [ 84, 107,  53],\n",
      "        ...,\n",
      "        [ 79,  80,  62],\n",
      "        [ 64,  65,  47],\n",
      "        [ 44,  45,  27]],\n",
      "\n",
      "       [[ 44,  67,  15],\n",
      "        [ 83, 106,  54],\n",
      "        [ 83, 106,  52],\n",
      "        ...,\n",
      "        [ 75,  78,  57],\n",
      "        [ 60,  63,  42],\n",
      "        [ 40,  43,  22]],\n",
      "\n",
      "       ...,\n",
      "\n",
      "       [[ 35,  48,  18],\n",
      "        [ 80,  96,  59],\n",
      "        [ 81,  99,  49],\n",
      "        ...,\n",
      "        [ 78, 110,  45],\n",
      "        [ 71, 102,  43],\n",
      "        [ 38,  69,  12]],\n",
      "\n",
      "       [[ 34,  49,  18],\n",
      "        [ 79,  95,  58],\n",
      "        [ 80,  98,  48],\n",
      "        ...,\n",
      "        [ 76, 108,  43],\n",
      "        [ 67,  98,  39],\n",
      "        [ 35,  66,   9]],\n",
      "\n",
      "       [[ 38,  53,  22],\n",
      "        [ 82,  98,  61],\n",
      "        [ 80, 100,  49],\n",
      "        ...,\n",
      "        [ 74, 106,  39],\n",
      "        [ 65,  96,  37],\n",
      "        [ 34,  65,   8]]], dtype=uint8)>, 'image/filename': <tf.Tensor: shape=(), dtype=string, numpy=b'577873413129.png'>, 'objects': {'bbox': <tf.Tensor: shape=(18, 4), dtype=float32, numpy=\n",
      "array([[0.43194443, 0.4390625 , 0.4625    , 0.459375  ],\n",
      "       [0.4236111 , 0.4546875 , 0.46805555, 0.47578126],\n",
      "       [0.175     , 0.5953125 , 0.20833333, 0.61328125],\n",
      "       [0.5125    , 0.415625  , 0.55277777, 0.43359375],\n",
      "       [0.50277776, 0.23984376, 0.54444444, 0.26015624],\n",
      "       [0.41805556, 0.503125  , 0.45277777, 0.5257813 ],\n",
      "       [0.44583333, 0.34296876, 0.49444443, 0.36171874],\n",
      "       [0.39583334, 0.5453125 , 0.44166666, 0.565625  ],\n",
      "       [0.5416667 , 0.08828125, 0.5875    , 0.1140625 ],\n",
      "       [0.44305557, 0.40703124, 0.48194444, 0.428125  ],\n",
      "       [0.46944445, 0.30703124, 0.5013889 , 0.3265625 ],\n",
      "       [0.21944444, 0.5828125 , 0.25416666, 0.603125  ],\n",
      "       [0.4097222 , 0.5671875 , 0.44722223, 0.58984375],\n",
      "       [0.5208333 , 0.40234375, 0.55277777, 0.421875  ],\n",
      "       [0.39305556, 0.15859374, 0.43055555, 0.1796875 ],\n",
      "       [0.42916667, 0.53515625, 0.45972222, 0.55390626],\n",
      "       [0.375     , 0.384375  , 0.4236111 , 0.40234375],\n",
      "       [0.24861111, 0.60234374, 0.28333333, 0.6226562 ]], dtype=float32)>, 'id': <tensorflow.python.framework.sparse_tensor.SparseTensor object at 0x7fa29f096f98>, 'iscrowd': <tf.Tensor: shape=(18,), dtype=int64, numpy=array([0, 0, 0, 0, 0, 0, 0, 0, 0, 0, 0, 0, 0, 0, 0, 0, 0, 0])>, 'label': <tf.Tensor: shape=(18,), dtype=int64, numpy=array([0, 0, 0, 0, 0, 0, 0, 0, 0, 0, 0, 0, 0, 0, 0, 0, 0, 0])>}}\n"
     ]
    }
   ],
   "source": [
    "#Preview the dataset\n",
    "for i in test_dataset.take(1):\n",
    "    print(i)"
   ]
  },
  {
   "cell_type": "markdown",
   "metadata": {},
   "source": [
    "# Write y_test_df to CSV file"
   ]
  },
  {
   "cell_type": "code",
   "execution_count": 685,
   "metadata": {},
   "outputs": [],
   "source": [
    "y_test_df.to_csv('y_test_df.csv')"
   ]
  },
  {
   "cell_type": "markdown",
   "metadata": {},
   "source": [
    "# Write Test Videos to TensorFlow Records"
   ]
  },
  {
   "cell_type": "markdown",
   "metadata": {},
   "source": [
    "Converting the test video arrays to tfrecords makes it easier to upload to Google Cloud and convert back to an array for predictions."
   ]
  },
  {
   "cell_type": "code",
   "execution_count": 1006,
   "metadata": {
    "scrolled": true
   },
   "outputs": [],
   "source": [
    "# Define the path and then display the video using \n",
    "endzone_vid_path = \"test_vid/57583_000082_Endzone.mp4\"\n",
    "sideline_vid_path = \"test_vid/57583_000082_Sideline.mp4\""
   ]
  },
  {
   "cell_type": "code",
   "execution_count": 1007,
   "metadata": {},
   "outputs": [],
   "source": [
    "def frames_to_arrays(vid_path):\n",
    "    \n",
    "    \"\"\"Capture frames from video as list of image arrays.\n",
    "    Arguments: \n",
    "      vid_path: Video path to capture frames.\n",
    "    Returns: Each frame of the specified video as an array.\"\"\"\n",
    "    \n",
    "    test_video_list = []\n",
    "    test_missing_list = []\n",
    "    date_time = []\n",
    "    cap = cv2.VideoCapture(vid_path)\n",
    "    frames_in_video = int(cap.get(cv2.CAP_PROP_FRAME_COUNT))\n",
    "    for i in tqdm.tqdm_notebook(range(0, frames_in_video)):\n",
    "        cap.set(cv2.CAP_PROP_POS_FRAMES, i)\n",
    "        date_time.append(datetime.datetime.now())\n",
    "        success, img_array = cap.read()\n",
    "        if success == True:\n",
    "            test_video_list.append(img_array)\n",
    "        else:\n",
    "            test_missing_list.append(i)\n",
    "    final_video_array = np.array(test_video_list)\n",
    "    frames_to_arrays.final_video_array = final_video_array\n",
    "    frames_to_arrays.date_time = date_time"
   ]
  },
  {
   "cell_type": "code",
   "execution_count": 1008,
   "metadata": {},
   "outputs": [],
   "source": [
    "frames_to_arrays(endzone_vid_path)"
   ]
  },
  {
   "cell_type": "code",
   "execution_count": 189,
   "metadata": {},
   "outputs": [],
   "source": [
    "#Convert list to array\n",
    "endzone_video_array = frames_to_arrays.final_video_array"
   ]
  },
  {
   "cell_type": "code",
   "execution_count": 190,
   "metadata": {},
   "outputs": [
    {
     "data": {
      "text/plain": [
       "(472, 720, 1280, 3)"
      ]
     },
     "execution_count": 190,
     "metadata": {},
     "output_type": "execute_result"
    }
   ],
   "source": [
    "#Preview shape\n",
    "endzone_video_array.shape"
   ]
  },
  {
   "cell_type": "code",
   "execution_count": 191,
   "metadata": {},
   "outputs": [
    {
     "data": {
      "application/vnd.jupyter.widget-view+json": {
       "model_id": "53078ea4f0ea4c8abefdd5d406c10dd9",
       "version_major": 2,
       "version_minor": 0
      },
      "text/plain": [
       "HBox(children=(IntProgress(value=0, max=471), HTML(value='')))"
      ]
     },
     "metadata": {},
     "output_type": "display_data"
    },
    {
     "name": "stdout",
     "output_type": "stream",
     "text": [
      "\n"
     ]
    }
   ],
   "source": [
    "frames_to_arrays(sideline_vid_path)"
   ]
  },
  {
   "cell_type": "code",
   "execution_count": 192,
   "metadata": {},
   "outputs": [],
   "source": [
    "#Convert list to array\n",
    "sideline_video_array = frames_to_arrays.final_video_array"
   ]
  },
  {
   "cell_type": "code",
   "execution_count": 193,
   "metadata": {},
   "outputs": [
    {
     "data": {
      "text/plain": [
       "(471, 720, 1280, 3)"
      ]
     },
     "execution_count": 193,
     "metadata": {},
     "output_type": "execute_result"
    }
   ],
   "source": [
    "#Preview shape\n",
    "sideline_video_array.shape"
   ]
  },
  {
   "cell_type": "code",
   "execution_count": 194,
   "metadata": {},
   "outputs": [
    {
     "data": {
      "application/vnd.jupyter.widget-view+json": {
       "model_id": "df2aa792ed3d4a90aec34ff42f70f9a0",
       "version_major": 2,
       "version_minor": 0
      },
      "text/plain": [
       "HBox(children=(IntProgress(value=1, bar_style='info', max=1), HTML(value='')))"
      ]
     },
     "metadata": {},
     "output_type": "display_data"
    },
    {
     "name": "stdout",
     "output_type": "stream",
     "text": [
      "\n"
     ]
    }
   ],
   "source": [
    "examples = []\n",
    "for ind, img in tqdm.tqdm_notebook(enumerate(endzone_video_array)):\n",
    "    img_string = cv2.imencode('.jpeg', img)[1].tobytes()\n",
    "    \n",
    "    # Create a Features message using tf.train.Example.\n",
    "    example = tf.train.Example(features=tf.train.Features(feature={\n",
    "        'image': tf.train.Feature(bytes_list=tf.train.BytesList(value=[img_string]))}))\n",
    "    \n",
    "    examples.append(example)\n",
    "    \n",
    "with tf.io.TFRecordWriter('test_vid/endzone.tfrecord') as writer:\n",
    "    for j in examples:\n",
    "        writer.write(j.SerializeToString())\n",
    "    examples.clear()"
   ]
  },
  {
   "cell_type": "code",
   "execution_count": 195,
   "metadata": {},
   "outputs": [
    {
     "data": {
      "application/vnd.jupyter.widget-view+json": {
       "model_id": "084ad75616fd419188698fc808b6dd4c",
       "version_major": 2,
       "version_minor": 0
      },
      "text/plain": [
       "HBox(children=(IntProgress(value=1, bar_style='info', max=1), HTML(value='')))"
      ]
     },
     "metadata": {},
     "output_type": "display_data"
    },
    {
     "name": "stdout",
     "output_type": "stream",
     "text": [
      "\n"
     ]
    }
   ],
   "source": [
    "examples = []\n",
    "for ind, img in tqdm.tqdm_notebook(enumerate(sideline_video_array)):\n",
    "    img_string = cv2.imencode('.jpeg', img)[1].tobytes()\n",
    "    \n",
    "    # Create a Features message using tf.train.Example.\n",
    "    example = tf.train.Example(features=tf.train.Features(feature={\n",
    "        'image': tf.train.Feature(bytes_list=tf.train.BytesList(value=[img_string]))}))\n",
    "    \n",
    "    examples.append(example)\n",
    "    \n",
    "with tf.io.TFRecordWriter('test_vid/sideline.tfrecord') as writer:\n",
    "    for j in examples:\n",
    "        writer.write(j.SerializeToString())\n",
    "    examples.clear()"
   ]
  }
 ],
 "metadata": {
  "colab": {
   "collapsed_sections": [
    "v5P-E47hvqrW",
    "qKmJbJ0LvqrY",
    "KdH0dnxfvqrY",
    "qrVr-mRKvqrZ",
    "KEsrTVGQvqrZ",
    "fWSnTdtHvqra",
    "c-bPeEgJvqrb",
    "3FisbFyhvqs0",
    "ADmPX9Kxvqs1",
    "KCM4eeaRvqs1",
    "oD30IUjzvqs1",
    "9fC80qU-vqs1",
    "e-rqOqB9vqs2",
    "28rdE8p7vqs2",
    "sDZD0hV6vqs2"
   ],
   "name": "Untitled-Copy1.ipynb",
   "provenance": []
  },
  "kernelspec": {
   "display_name": "Python [conda env:learn-env] *",
   "language": "python",
   "name": "conda-env-learn-env-py"
  },
  "language_info": {
   "codemirror_mode": {
    "name": "ipython",
    "version": 3
   },
   "file_extension": ".py",
   "mimetype": "text/x-python",
   "name": "python",
   "nbconvert_exporter": "python",
   "pygments_lexer": "ipython3",
   "version": "3.6.9"
  }
 },
 "nbformat": 4,
 "nbformat_minor": 1
}
